{
  "nbformat": 4,
  "nbformat_minor": 0,
  "metadata": {
    "colab": {
      "name": "Class Assignment_4_BDSN_Energy Usage_DataFrame__Preetam Saha_C22018",
      "provenance": [],
      "collapsed_sections": [],
      "include_colab_link": true
    },
    "kernelspec": {
      "name": "python3",
      "display_name": "Python 3"
    }
  },
  "cells": [
    {
      "cell_type": "markdown",
      "metadata": {
        "id": "view-in-github",
        "colab_type": "text"
      },
      "source": [
        "<a href=\"https://colab.research.google.com/github/preetamjumech/Spark_Assignments/blob/main/Class_Assignment_4_BDSN_Energy_Usage_DataFrame__Preetam_Saha_C22018.ipynb\" target=\"_parent\"><img src=\"https://colab.research.google.com/assets/colab-badge.svg\" alt=\"Open In Colab\"/></a>"
      ]
    },
    {
      "cell_type": "markdown",
      "metadata": {
        "id": "D88IBg_5xd_C"
      },
      "source": [
        "# Data Frame <br>\n",
        "Analytics Vidhya https://www.analyticsvidhya.com/blog/2016/10/spark-dataframe-and-operations/ <br>\n",
        "Alternate https://www.analyticsvidhya.com/blog/2016/09/comprehensive-introduction-to-apache-spark-rdds-dataframes-using-pyspark/ <br>\n",
        "\n",
        "Data Bricks https://docs.databricks.com/spark/latest/data-sources/read-csv.html"
      ]
    },
    {
      "cell_type": "markdown",
      "metadata": {
        "id": "CqKj7HNWx6d6"
      },
      "source": [
        "# Initialise"
      ]
    },
    {
      "cell_type": "code",
      "metadata": {
        "id": "tR__62XBx-By",
        "outputId": "aa1bb7a4-dc5c-494b-a777-7bc93739f4ef",
        "colab": {
          "base_uri": "https://localhost:8080/"
        }
      },
      "source": [
        "#!apt-get update > /dev/null\n",
        "#!apt-get install openjdk-8-jdk-headless -qq > /dev/null\n",
        "#!wget -q http://apache.osuosl.org/spark/spark-2.4.0/spark-2.4.0-bin-hadoop2.7.tgz\n",
        "#wget -q http://apache.osuosl.org/spark/spark-2.4.4/spark-2.4.4-bin-hadoop2.7.tgz\n",
        "#!wget -q http://apache.osuosl.org/spark/spark-2.4.5/spark-2.4.5-bin-hadoop2.7.tgz\n",
        "#!wget -q http://apache.osuosl.org/spark/spark-3.0.1/spark-3.0.1-bin-hadoop3.2.tgz\n",
        "#!wget -q http://apache.osuosl.org/spark/spark-3.1.2/spark-3.1.2-bin-hadoop3.2.tgz\n",
        "\n",
        "#!tar xf spark-2.4.0-bin-hadoop2.7.tgz\n",
        "#!tar xf spark-2.4.4-bin-hadoop2.7.tgz\n",
        "#!tar xf spark-2.4.5-bin-hadoop2.7.tgz\n",
        "#!tar xf spark-3.0.1-bin-hadoop3.2.tgz\n",
        "#!tar xf spark-3.1.2-bin-hadoop3.2.tgz\n",
        "#!pip install -q findspark\n",
        "!pip3 install -q pyspark"
      ],
      "execution_count": 1,
      "outputs": [
        {
          "output_type": "stream",
          "name": "stdout",
          "text": [
            "\u001b[K     |████████████████████████████████| 281.4 MB 29 kB/s \n",
            "\u001b[K     |████████████████████████████████| 198 kB 47.7 MB/s \n",
            "\u001b[?25h  Building wheel for pyspark (setup.py) ... \u001b[?25l\u001b[?25hdone\n"
          ]
        }
      ]
    },
    {
      "cell_type": "code",
      "metadata": {
        "id": "PqWkuZiQyMT0"
      },
      "source": [
        "#import os\n",
        "#os.environ[\"JAVA_HOME\"] = \"/usr/lib/jvm/java-8-openjdk-amd64\"\n",
        "#os.environ[\"SPARK_HOME\"] = \"/content/spark-2.4.0-bin-hadoop2.7\"\n",
        "#os.environ[\"SPARK_HOME\"] = \"/content/spark-2.4.4-bin-hadoop2.7\"\n",
        "#os.environ[\"SPARK_HOME\"] = \"/content/spark-2.4.5-bin-hadoop2.7\"\n",
        "#os.environ[\"SPARK_HOME\"] = \"/content/spark-3.0.1-bin-hadoop3.2\"\n",
        "#os.environ[\"SPARK_HOME\"] = \"/content/spark-3.1.2-bin-hadoop3.2\""
      ],
      "execution_count": 2,
      "outputs": []
    },
    {
      "cell_type": "code",
      "metadata": {
        "id": "G963gOZKyQuQ",
        "outputId": "fbb4d968-1523-4401-b891-971750703250",
        "colab": {
          "base_uri": "https://localhost:8080/",
          "height": 196
        }
      },
      "source": [
        "#import findspark\n",
        "#findspark.init()\n",
        "from pyspark.sql import SparkSession\n",
        "spark = SparkSession.builder.master(\"local[*]\").getOrCreate()\n",
        "sc = spark.sparkContext\n",
        "sc"
      ],
      "execution_count": 3,
      "outputs": [
        {
          "output_type": "execute_result",
          "data": {
            "text/plain": [
              "<SparkContext master=local[*] appName=pyspark-shell>"
            ],
            "text/html": [
              "\n",
              "        <div>\n",
              "            <p><b>SparkContext</b></p>\n",
              "\n",
              "            <p><a href=\"http://429fd6981988:4040\">Spark UI</a></p>\n",
              "\n",
              "            <dl>\n",
              "              <dt>Version</dt>\n",
              "                <dd><code>v3.2.1</code></dd>\n",
              "              <dt>Master</dt>\n",
              "                <dd><code>local[*]</code></dd>\n",
              "              <dt>AppName</dt>\n",
              "                <dd><code>pyspark-shell</code></dd>\n",
              "            </dl>\n",
              "        </div>\n",
              "        "
            ]
          },
          "metadata": {},
          "execution_count": 3
        }
      ]
    },
    {
      "cell_type": "code",
      "metadata": {
        "id": "cnTgqI9P0Rwq"
      },
      "source": [
        "#from pyspark.sql import SQLContext\n",
        "#sqlContext = SQLContext(sc)"
      ],
      "execution_count": 4,
      "outputs": []
    },
    {
      "cell_type": "markdown",
      "metadata": {
        "id": "9-BaFcn_0rTK"
      },
      "source": [
        "# Data Load"
      ]
    },
    {
      "cell_type": "code",
      "metadata": {
        "id": "9x_LDSdC3arm"
      },
      "source": [
        "#test = sqlContext.read.format(\"csv\").option(\"header\", \"true\").option(\"inferSchema\", \"true\").load(\"./test.csv\")\n",
        "train = spark.read.format(\"csv\").option(\"header\", \"true\").option(\"inferSchema\", \"true\").load(\"./energy-usage-2010-1.csv\")"
      ],
      "execution_count": 20,
      "outputs": []
    },
    {
      "cell_type": "code",
      "metadata": {
        "id": "ffB6tf1V2lIn"
      },
      "source": [
        "import pandas as pd\n",
        "pTrain = pd.read_csv(\"./energy-usage-2010-1.csv\")"
      ],
      "execution_count": 21,
      "outputs": []
    },
    {
      "cell_type": "code",
      "metadata": {
        "colab": {
          "base_uri": "https://localhost:8080/",
          "height": 324
        },
        "id": "qKMz3aGJ2yDq",
        "outputId": "215b5616-786a-4b98-9bc3-dc1fccb4ecaf"
      },
      "source": [
        "pTrain.head(3)"
      ],
      "execution_count": 22,
      "outputs": [
        {
          "output_type": "execute_result",
          "data": {
            "text/plain": [
              "  COMMUNITY AREA NAME  CENSUS BLOCK BUILDING TYPE BUILDING_SUBTYPE  \\\n",
              "0      Archer Heights  1.703157e+14   Residential        Multi < 7   \n",
              "1             Ashburn  1.703170e+14   Residential         Multi 7+   \n",
              "2      Auburn Gresham  1.703171e+14    Commercial        Multi < 7   \n",
              "\n",
              "   KWH JANUARY 2010  KWH FEBRUARY 2010  KWH MARCH 2010  KWH APRIL 2010  \\\n",
              "0               NaN                NaN             NaN             NaN   \n",
              "1            7334.0             7741.0          4214.0          4284.0   \n",
              "2               NaN                NaN             NaN             NaN   \n",
              "\n",
              "   KWH MAY 2010  KWH JUNE 2010  ...  TOTAL POPULATION  TOTAL UNITS  \\\n",
              "0           NaN            NaN  ...              89.0         24.0   \n",
              "1        2518.0         4273.0  ...             112.0         67.0   \n",
              "2           NaN            NaN  ...             102.0         48.0   \n",
              "\n",
              "   AVERAGE STORIES  AVERAGE BUILDING AGE  AVERAGE HOUSESIZE  OCCUPIED UNITS  \\\n",
              "0              2.0                 71.33               3.87            23.0   \n",
              "1              2.0                 41.00               1.81            62.0   \n",
              "2              3.0                 86.00               3.00            34.0   \n",
              "\n",
              "   OCCUPIED UNITS PERCENTAGE RENTER-OCCUPIED HOUSING UNITS  \\\n",
              "0                     0.9582                           9.0   \n",
              "1                     0.9254                          50.0   \n",
              "2                     0.7082                          23.0   \n",
              "\n",
              "   RENTER-OCCUPIED HOUSING PERCENTAGE  OCCUPIED HOUSING UNITS  \n",
              "0                              0.3910                    23.0  \n",
              "1                              0.8059                    62.0  \n",
              "2                              0.6759                    34.0  \n",
              "\n",
              "[3 rows x 73 columns]"
            ],
            "text/html": [
              "\n",
              "  <div id=\"df-1598b4c9-23e1-4468-8265-48557a0d1381\">\n",
              "    <div class=\"colab-df-container\">\n",
              "      <div>\n",
              "<style scoped>\n",
              "    .dataframe tbody tr th:only-of-type {\n",
              "        vertical-align: middle;\n",
              "    }\n",
              "\n",
              "    .dataframe tbody tr th {\n",
              "        vertical-align: top;\n",
              "    }\n",
              "\n",
              "    .dataframe thead th {\n",
              "        text-align: right;\n",
              "    }\n",
              "</style>\n",
              "<table border=\"1\" class=\"dataframe\">\n",
              "  <thead>\n",
              "    <tr style=\"text-align: right;\">\n",
              "      <th></th>\n",
              "      <th>COMMUNITY AREA NAME</th>\n",
              "      <th>CENSUS BLOCK</th>\n",
              "      <th>BUILDING TYPE</th>\n",
              "      <th>BUILDING_SUBTYPE</th>\n",
              "      <th>KWH JANUARY 2010</th>\n",
              "      <th>KWH FEBRUARY 2010</th>\n",
              "      <th>KWH MARCH 2010</th>\n",
              "      <th>KWH APRIL 2010</th>\n",
              "      <th>KWH MAY 2010</th>\n",
              "      <th>KWH JUNE 2010</th>\n",
              "      <th>...</th>\n",
              "      <th>TOTAL POPULATION</th>\n",
              "      <th>TOTAL UNITS</th>\n",
              "      <th>AVERAGE STORIES</th>\n",
              "      <th>AVERAGE BUILDING AGE</th>\n",
              "      <th>AVERAGE HOUSESIZE</th>\n",
              "      <th>OCCUPIED UNITS</th>\n",
              "      <th>OCCUPIED UNITS PERCENTAGE</th>\n",
              "      <th>RENTER-OCCUPIED HOUSING UNITS</th>\n",
              "      <th>RENTER-OCCUPIED HOUSING PERCENTAGE</th>\n",
              "      <th>OCCUPIED HOUSING UNITS</th>\n",
              "    </tr>\n",
              "  </thead>\n",
              "  <tbody>\n",
              "    <tr>\n",
              "      <th>0</th>\n",
              "      <td>Archer Heights</td>\n",
              "      <td>1.703157e+14</td>\n",
              "      <td>Residential</td>\n",
              "      <td>Multi &lt; 7</td>\n",
              "      <td>NaN</td>\n",
              "      <td>NaN</td>\n",
              "      <td>NaN</td>\n",
              "      <td>NaN</td>\n",
              "      <td>NaN</td>\n",
              "      <td>NaN</td>\n",
              "      <td>...</td>\n",
              "      <td>89.0</td>\n",
              "      <td>24.0</td>\n",
              "      <td>2.0</td>\n",
              "      <td>71.33</td>\n",
              "      <td>3.87</td>\n",
              "      <td>23.0</td>\n",
              "      <td>0.9582</td>\n",
              "      <td>9.0</td>\n",
              "      <td>0.3910</td>\n",
              "      <td>23.0</td>\n",
              "    </tr>\n",
              "    <tr>\n",
              "      <th>1</th>\n",
              "      <td>Ashburn</td>\n",
              "      <td>1.703170e+14</td>\n",
              "      <td>Residential</td>\n",
              "      <td>Multi 7+</td>\n",
              "      <td>7334.0</td>\n",
              "      <td>7741.0</td>\n",
              "      <td>4214.0</td>\n",
              "      <td>4284.0</td>\n",
              "      <td>2518.0</td>\n",
              "      <td>4273.0</td>\n",
              "      <td>...</td>\n",
              "      <td>112.0</td>\n",
              "      <td>67.0</td>\n",
              "      <td>2.0</td>\n",
              "      <td>41.00</td>\n",
              "      <td>1.81</td>\n",
              "      <td>62.0</td>\n",
              "      <td>0.9254</td>\n",
              "      <td>50.0</td>\n",
              "      <td>0.8059</td>\n",
              "      <td>62.0</td>\n",
              "    </tr>\n",
              "    <tr>\n",
              "      <th>2</th>\n",
              "      <td>Auburn Gresham</td>\n",
              "      <td>1.703171e+14</td>\n",
              "      <td>Commercial</td>\n",
              "      <td>Multi &lt; 7</td>\n",
              "      <td>NaN</td>\n",
              "      <td>NaN</td>\n",
              "      <td>NaN</td>\n",
              "      <td>NaN</td>\n",
              "      <td>NaN</td>\n",
              "      <td>NaN</td>\n",
              "      <td>...</td>\n",
              "      <td>102.0</td>\n",
              "      <td>48.0</td>\n",
              "      <td>3.0</td>\n",
              "      <td>86.00</td>\n",
              "      <td>3.00</td>\n",
              "      <td>34.0</td>\n",
              "      <td>0.7082</td>\n",
              "      <td>23.0</td>\n",
              "      <td>0.6759</td>\n",
              "      <td>34.0</td>\n",
              "    </tr>\n",
              "  </tbody>\n",
              "</table>\n",
              "<p>3 rows × 73 columns</p>\n",
              "</div>\n",
              "      <button class=\"colab-df-convert\" onclick=\"convertToInteractive('df-1598b4c9-23e1-4468-8265-48557a0d1381')\"\n",
              "              title=\"Convert this dataframe to an interactive table.\"\n",
              "              style=\"display:none;\">\n",
              "        \n",
              "  <svg xmlns=\"http://www.w3.org/2000/svg\" height=\"24px\"viewBox=\"0 0 24 24\"\n",
              "       width=\"24px\">\n",
              "    <path d=\"M0 0h24v24H0V0z\" fill=\"none\"/>\n",
              "    <path d=\"M18.56 5.44l.94 2.06.94-2.06 2.06-.94-2.06-.94-.94-2.06-.94 2.06-2.06.94zm-11 1L8.5 8.5l.94-2.06 2.06-.94-2.06-.94L8.5 2.5l-.94 2.06-2.06.94zm10 10l.94 2.06.94-2.06 2.06-.94-2.06-.94-.94-2.06-.94 2.06-2.06.94z\"/><path d=\"M17.41 7.96l-1.37-1.37c-.4-.4-.92-.59-1.43-.59-.52 0-1.04.2-1.43.59L10.3 9.45l-7.72 7.72c-.78.78-.78 2.05 0 2.83L4 21.41c.39.39.9.59 1.41.59.51 0 1.02-.2 1.41-.59l7.78-7.78 2.81-2.81c.8-.78.8-2.07 0-2.86zM5.41 20L4 18.59l7.72-7.72 1.47 1.35L5.41 20z\"/>\n",
              "  </svg>\n",
              "      </button>\n",
              "      \n",
              "  <style>\n",
              "    .colab-df-container {\n",
              "      display:flex;\n",
              "      flex-wrap:wrap;\n",
              "      gap: 12px;\n",
              "    }\n",
              "\n",
              "    .colab-df-convert {\n",
              "      background-color: #E8F0FE;\n",
              "      border: none;\n",
              "      border-radius: 50%;\n",
              "      cursor: pointer;\n",
              "      display: none;\n",
              "      fill: #1967D2;\n",
              "      height: 32px;\n",
              "      padding: 0 0 0 0;\n",
              "      width: 32px;\n",
              "    }\n",
              "\n",
              "    .colab-df-convert:hover {\n",
              "      background-color: #E2EBFA;\n",
              "      box-shadow: 0px 1px 2px rgba(60, 64, 67, 0.3), 0px 1px 3px 1px rgba(60, 64, 67, 0.15);\n",
              "      fill: #174EA6;\n",
              "    }\n",
              "\n",
              "    [theme=dark] .colab-df-convert {\n",
              "      background-color: #3B4455;\n",
              "      fill: #D2E3FC;\n",
              "    }\n",
              "\n",
              "    [theme=dark] .colab-df-convert:hover {\n",
              "      background-color: #434B5C;\n",
              "      box-shadow: 0px 1px 3px 1px rgba(0, 0, 0, 0.15);\n",
              "      filter: drop-shadow(0px 1px 2px rgba(0, 0, 0, 0.3));\n",
              "      fill: #FFFFFF;\n",
              "    }\n",
              "  </style>\n",
              "\n",
              "      <script>\n",
              "        const buttonEl =\n",
              "          document.querySelector('#df-1598b4c9-23e1-4468-8265-48557a0d1381 button.colab-df-convert');\n",
              "        buttonEl.style.display =\n",
              "          google.colab.kernel.accessAllowed ? 'block' : 'none';\n",
              "\n",
              "        async function convertToInteractive(key) {\n",
              "          const element = document.querySelector('#df-1598b4c9-23e1-4468-8265-48557a0d1381');\n",
              "          const dataTable =\n",
              "            await google.colab.kernel.invokeFunction('convertToInteractive',\n",
              "                                                     [key], {});\n",
              "          if (!dataTable) return;\n",
              "\n",
              "          const docLinkHtml = 'Like what you see? Visit the ' +\n",
              "            '<a target=\"_blank\" href=https://colab.research.google.com/notebooks/data_table.ipynb>data table notebook</a>'\n",
              "            + ' to learn more about interactive tables.';\n",
              "          element.innerHTML = '';\n",
              "          dataTable['output_type'] = 'display_data';\n",
              "          await google.colab.output.renderOutput(dataTable, element);\n",
              "          const docLink = document.createElement('div');\n",
              "          docLink.innerHTML = docLinkHtml;\n",
              "          element.appendChild(docLink);\n",
              "        }\n",
              "      </script>\n",
              "    </div>\n",
              "  </div>\n",
              "  "
            ]
          },
          "metadata": {},
          "execution_count": 22
        }
      ]
    },
    {
      "cell_type": "code",
      "metadata": {
        "id": "hpZKGSZP4IMw",
        "colab": {
          "base_uri": "https://localhost:8080/"
        },
        "outputId": "78341575-728a-4eb5-bbc1-e2616ee80c8c"
      },
      "source": [
        "train.printSchema()\n",
        "#test.printSchema()"
      ],
      "execution_count": 23,
      "outputs": [
        {
          "output_type": "stream",
          "name": "stdout",
          "text": [
            "root\n",
            " |-- COMMUNITY AREA NAME: string (nullable = true)\n",
            " |-- CENSUS BLOCK: long (nullable = true)\n",
            " |-- BUILDING TYPE: string (nullable = true)\n",
            " |-- BUILDING_SUBTYPE: string (nullable = true)\n",
            " |-- KWH JANUARY 2010: integer (nullable = true)\n",
            " |-- KWH FEBRUARY 2010: integer (nullable = true)\n",
            " |-- KWH MARCH 2010: integer (nullable = true)\n",
            " |-- KWH APRIL 2010: integer (nullable = true)\n",
            " |-- KWH MAY 2010: integer (nullable = true)\n",
            " |-- KWH JUNE 2010: integer (nullable = true)\n",
            " |-- KWH JULY 2010: integer (nullable = true)\n",
            " |-- KWH AUGUST 2010: integer (nullable = true)\n",
            " |-- KWH SEPTEMBER 2010: integer (nullable = true)\n",
            " |-- KWH OCTOBER 2010: integer (nullable = true)\n",
            " |-- KWH NOVEMBER 2010: integer (nullable = true)\n",
            " |-- KWH DECEMBER 2010: integer (nullable = true)\n",
            " |-- TOTAL KWH: integer (nullable = true)\n",
            " |-- ELECTRICITY ACCOUNTS: string (nullable = true)\n",
            " |-- ZERO KWH ACCOUNTS: integer (nullable = true)\n",
            " |-- THERM JANUARY 2010: integer (nullable = true)\n",
            " |-- THERM FEBRUARY 2010: integer (nullable = true)\n",
            " |-- THERM MARCH 2010: integer (nullable = true)\n",
            " |-- TERM APRIL 2010: integer (nullable = true)\n",
            " |-- THERM MAY 2010: integer (nullable = true)\n",
            " |-- THERM JUNE 2010: integer (nullable = true)\n",
            " |-- THERM JULY 2010: integer (nullable = true)\n",
            " |-- THERM AUGUST 2010: integer (nullable = true)\n",
            " |-- THERM SEPTEMBER 2010: integer (nullable = true)\n",
            " |-- THERM OCTOBER 2010: integer (nullable = true)\n",
            " |-- THERM NOVEMBER 2010: integer (nullable = true)\n",
            " |-- THERM DECEMBER 2010: integer (nullable = true)\n",
            " |-- TOTAL THERMS: integer (nullable = true)\n",
            " |-- GAS ACCOUNTS: string (nullable = true)\n",
            " |-- KWH TOTAL SQFT: integer (nullable = true)\n",
            " |-- THERMS TOTAL SQFT: integer (nullable = true)\n",
            " |-- KWH MEAN 2010: double (nullable = true)\n",
            " |-- KWH STANDARD DEVIATION 2010: double (nullable = true)\n",
            " |-- KWH MINIMUM 2010: integer (nullable = true)\n",
            " |-- KWH 1ST QUARTILE 2010: double (nullable = true)\n",
            " |-- KWH 2ND QUARTILE 2010: double (nullable = true)\n",
            " |-- KWH 3RD QUARTILE 2010: double (nullable = true)\n",
            " |-- KWH MAXIMUM 2010: integer (nullable = true)\n",
            " |-- KWH SQFT MEAN 2010: double (nullable = true)\n",
            " |-- KWH SQFT STANDARD DEVIATION 2010: double (nullable = true)\n",
            " |-- KWH SQFT MINIMUM 2010: integer (nullable = true)\n",
            " |-- KWH SQFT 1ST QUARTILE 2010: double (nullable = true)\n",
            " |-- KWH SQFT 2ND QUARTILE 2010: double (nullable = true)\n",
            " |-- KWH SQFT 3RD QUARTILE 2010: double (nullable = true)\n",
            " |-- KWH SQFT MAXIMUM 2010: integer (nullable = true)\n",
            " |-- THERM MEAN 2010: double (nullable = true)\n",
            " |-- THERM STANDARD DEVIATION 2010: double (nullable = true)\n",
            " |-- THERM MINIMUM 2010: integer (nullable = true)\n",
            " |-- THERM 1ST QUARTILE 2010: double (nullable = true)\n",
            " |-- THERM 2ND QUARTILE 2010: double (nullable = true)\n",
            " |-- THERM 3RD QUARTILE 2010: double (nullable = true)\n",
            " |-- THERM MAXIMUM 2010: integer (nullable = true)\n",
            " |-- THERMS SQFT MEAN 2010: double (nullable = true)\n",
            " |-- THERMS SQFT STANDARD DEVIATION 2010: double (nullable = true)\n",
            " |-- THERMS SQFT MINIMUM 2010: integer (nullable = true)\n",
            " |-- THERMS SQFT 1ST QUARTILE 2010: double (nullable = true)\n",
            " |-- THERMS SQFT 2ND QUARTILE 2010: double (nullable = true)\n",
            " |-- THERMS SQFT 3RD QUARTILE 2010: double (nullable = true)\n",
            " |-- THERMS SQFT MAXIMUM 2010: integer (nullable = true)\n",
            " |-- TOTAL POPULATION: integer (nullable = true)\n",
            " |-- TOTAL UNITS: integer (nullable = true)\n",
            " |-- AVERAGE STORIES: double (nullable = true)\n",
            " |-- AVERAGE BUILDING AGE: double (nullable = true)\n",
            " |-- AVERAGE HOUSESIZE: double (nullable = true)\n",
            " |-- OCCUPIED UNITS: integer (nullable = true)\n",
            " |-- OCCUPIED UNITS PERCENTAGE: double (nullable = true)\n",
            " |-- RENTER-OCCUPIED HOUSING UNITS: integer (nullable = true)\n",
            " |-- RENTER-OCCUPIED HOUSING PERCENTAGE: double (nullable = true)\n",
            " |-- OCCUPIED HOUSING UNITS: integer (nullable = true)\n",
            "\n"
          ]
        }
      ]
    },
    {
      "cell_type": "markdown",
      "metadata": {
        "id": "-dYK2fa-4mWy"
      },
      "source": [
        "# Dataframe Manipulations"
      ]
    },
    {
      "cell_type": "code",
      "metadata": {
        "id": "gsjGsCXH4tqm",
        "colab": {
          "base_uri": "https://localhost:8080/"
        },
        "outputId": "b6a881e3-4085-43a9-c886-908204fd538d"
      },
      "source": [
        "train.head(3)"
      ],
      "execution_count": 24,
      "outputs": [
        {
          "output_type": "execute_result",
          "data": {
            "text/plain": [
              "[Row(COMMUNITY AREA NAME='Archer Heights', CENSUS BLOCK=170315704001006, BUILDING TYPE='Residential', BUILDING_SUBTYPE='Multi < 7', KWH JANUARY 2010=None, KWH FEBRUARY 2010=None, KWH MARCH 2010=None, KWH APRIL 2010=None, KWH MAY 2010=None, KWH JUNE 2010=None, KWH JULY 2010=None, KWH AUGUST 2010=None, KWH SEPTEMBER 2010=None, KWH OCTOBER 2010=None, KWH NOVEMBER 2010=None, KWH DECEMBER 2010=None, TOTAL KWH=None, ELECTRICITY ACCOUNTS=None, ZERO KWH ACCOUNTS=0, THERM JANUARY 2010=2326, THERM FEBRUARY 2010=2131, THERM MARCH 2010=1400, TERM APRIL 2010=620, THERM MAY 2010=502, THERM JUNE 2010=224, THERM JULY 2010=222, THERM AUGUST 2010=187, THERM SEPTEMBER 2010=197, THERM OCTOBER 2010=252, THERM NOVEMBER 2010=744, THERM DECEMBER 2010=2112, TOTAL THERMS=10917, GAS ACCOUNTS='11', KWH TOTAL SQFT=None, THERMS TOTAL SQFT=11134, KWH MEAN 2010=None, KWH STANDARD DEVIATION 2010=None, KWH MINIMUM 2010=None, KWH 1ST QUARTILE 2010=None, KWH 2ND QUARTILE 2010=None, KWH 3RD QUARTILE 2010=None, KWH MAXIMUM 2010=None, KWH SQFT MEAN 2010=None, KWH SQFT STANDARD DEVIATION 2010=None, KWH SQFT MINIMUM 2010=None, KWH SQFT 1ST QUARTILE 2010=None, KWH SQFT 2ND QUARTILE 2010=None, KWH SQFT 3RD QUARTILE 2010=None, KWH SQFT MAXIMUM 2010=None, THERM MEAN 2010=1819.5, THERM STANDARD DEVIATION 2010=547.64, THERM MINIMUM 2010=1061, THERM 1ST QUARTILE 2010=1334.0, THERM 2ND QUARTILE 2010=1864.5, THERM 3RD QUARTILE 2010=2306.0, THERM MAXIMUM 2010=2487, THERMS SQFT MEAN 2010=1855.67, THERMS SQFT STANDARD DEVIATION 2010=490.89, THERMS SQFT MINIMUM 2010=1382, THERMS SQFT 1ST QUARTILE 2010=1382.0, THERMS SQFT 2ND QUARTILE 2010=1779.0, THERMS SQFT 3RD QUARTILE 2010=2162.0, THERMS SQFT MAXIMUM 2010=2650, TOTAL POPULATION=89, TOTAL UNITS=24, AVERAGE STORIES=2.0, AVERAGE BUILDING AGE=71.33, AVERAGE HOUSESIZE=3.87, OCCUPIED UNITS=23, OCCUPIED UNITS PERCENTAGE=0.9582, RENTER-OCCUPIED HOUSING UNITS=9, RENTER-OCCUPIED HOUSING PERCENTAGE=0.391, OCCUPIED HOUSING UNITS=23),\n",
              " Row(COMMUNITY AREA NAME='Ashburn', CENSUS BLOCK=170317005014004, BUILDING TYPE='Residential', BUILDING_SUBTYPE='Multi 7+', KWH JANUARY 2010=7334, KWH FEBRUARY 2010=7741, KWH MARCH 2010=4214, KWH APRIL 2010=4284, KWH MAY 2010=2518, KWH JUNE 2010=4273, KWH JULY 2010=4566, KWH AUGUST 2010=2787, KWH SEPTEMBER 2010=3357, KWH OCTOBER 2010=5540, KWH NOVEMBER 2010=15774, KWH DECEMBER 2010=19676, TOTAL KWH=82064, ELECTRICITY ACCOUNTS='8', ZERO KWH ACCOUNTS=3, THERM JANUARY 2010=None, THERM FEBRUARY 2010=None, THERM MARCH 2010=None, TERM APRIL 2010=None, THERM MAY 2010=None, THERM JUNE 2010=None, THERM JULY 2010=None, THERM AUGUST 2010=None, THERM SEPTEMBER 2010=None, THERM OCTOBER 2010=None, THERM NOVEMBER 2010=None, THERM DECEMBER 2010=None, TOTAL THERMS=None, GAS ACCOUNTS=None, KWH TOTAL SQFT=10892, THERMS TOTAL SQFT=None, KWH MEAN 2010=27354.67, KWH STANDARD DEVIATION 2010=22082.79, KWH MINIMUM 2010=8886, KWH 1ST QUARTILE 2010=8886.0, KWH 2ND QUARTILE 2010=21363.0, KWH 3RD QUARTILE 2010=51815.0, KWH MAXIMUM 2010=51815, KWH SQFT MEAN 2010=10892.0, KWH SQFT STANDARD DEVIATION 2010=None, KWH SQFT MINIMUM 2010=10892, KWH SQFT 1ST QUARTILE 2010=10892.0, KWH SQFT 2ND QUARTILE 2010=10892.0, KWH SQFT 3RD QUARTILE 2010=10892.0, KWH SQFT MAXIMUM 2010=10892, THERM MEAN 2010=None, THERM STANDARD DEVIATION 2010=None, THERM MINIMUM 2010=None, THERM 1ST QUARTILE 2010=None, THERM 2ND QUARTILE 2010=None, THERM 3RD QUARTILE 2010=None, THERM MAXIMUM 2010=None, THERMS SQFT MEAN 2010=None, THERMS SQFT STANDARD DEVIATION 2010=None, THERMS SQFT MINIMUM 2010=None, THERMS SQFT 1ST QUARTILE 2010=None, THERMS SQFT 2ND QUARTILE 2010=None, THERMS SQFT 3RD QUARTILE 2010=None, THERMS SQFT MAXIMUM 2010=None, TOTAL POPULATION=112, TOTAL UNITS=67, AVERAGE STORIES=2.0, AVERAGE BUILDING AGE=41.0, AVERAGE HOUSESIZE=1.81, OCCUPIED UNITS=62, OCCUPIED UNITS PERCENTAGE=0.9254, RENTER-OCCUPIED HOUSING UNITS=50, RENTER-OCCUPIED HOUSING PERCENTAGE=0.8059, OCCUPIED HOUSING UNITS=62),\n",
              " Row(COMMUNITY AREA NAME='Auburn Gresham', CENSUS BLOCK=170317105001006, BUILDING TYPE='Commercial', BUILDING_SUBTYPE='Multi < 7', KWH JANUARY 2010=None, KWH FEBRUARY 2010=None, KWH MARCH 2010=None, KWH APRIL 2010=None, KWH MAY 2010=None, KWH JUNE 2010=None, KWH JULY 2010=None, KWH AUGUST 2010=None, KWH SEPTEMBER 2010=None, KWH OCTOBER 2010=None, KWH NOVEMBER 2010=None, KWH DECEMBER 2010=None, TOTAL KWH=None, ELECTRICITY ACCOUNTS=None, ZERO KWH ACCOUNTS=7, THERM JANUARY 2010=1561, THERM FEBRUARY 2010=1388, THERM MARCH 2010=1507, TERM APRIL 2010=701, THERM MAY 2010=486, THERM JUNE 2010=380, THERM JULY 2010=18, THERM AUGUST 2010=16, THERM SEPTEMBER 2010=None, THERM OCTOBER 2010=None, THERM NOVEMBER 2010=None, THERM DECEMBER 2010=None, TOTAL THERMS=6057, GAS ACCOUNTS='4', KWH TOTAL SQFT=None, THERMS TOTAL SQFT=7347, KWH MEAN 2010=None, KWH STANDARD DEVIATION 2010=None, KWH MINIMUM 2010=None, KWH 1ST QUARTILE 2010=None, KWH 2ND QUARTILE 2010=None, KWH 3RD QUARTILE 2010=None, KWH MAXIMUM 2010=None, KWH SQFT MEAN 2010=None, KWH SQFT STANDARD DEVIATION 2010=None, KWH SQFT MINIMUM 2010=None, KWH SQFT 1ST QUARTILE 2010=None, KWH SQFT 2ND QUARTILE 2010=None, KWH SQFT 3RD QUARTILE 2010=None, KWH SQFT MAXIMUM 2010=None, THERM MEAN 2010=3028.5, THERM STANDARD DEVIATION 2010=4150.01, THERM MINIMUM 2010=94, THERM 1ST QUARTILE 2010=94.0, THERM 2ND QUARTILE 2010=3028.5, THERM 3RD QUARTILE 2010=5963.0, THERM MAXIMUM 2010=5963, THERMS SQFT MEAN 2010=7347.0, THERMS SQFT STANDARD DEVIATION 2010=None, THERMS SQFT MINIMUM 2010=7347, THERMS SQFT 1ST QUARTILE 2010=7347.0, THERMS SQFT 2ND QUARTILE 2010=7347.0, THERMS SQFT 3RD QUARTILE 2010=7347.0, THERMS SQFT MAXIMUM 2010=7347, TOTAL POPULATION=102, TOTAL UNITS=48, AVERAGE STORIES=3.0, AVERAGE BUILDING AGE=86.0, AVERAGE HOUSESIZE=3.0, OCCUPIED UNITS=34, OCCUPIED UNITS PERCENTAGE=0.7082, RENTER-OCCUPIED HOUSING UNITS=23, RENTER-OCCUPIED HOUSING PERCENTAGE=0.6759, OCCUPIED HOUSING UNITS=34)]"
            ]
          },
          "metadata": {},
          "execution_count": 24
        }
      ]
    },
    {
      "cell_type": "code",
      "metadata": {
        "id": "awd7bzNC47Qs",
        "colab": {
          "base_uri": "https://localhost:8080/"
        },
        "outputId": "dfdde342-2e8e-4b1e-ba2b-a3eff7380029"
      },
      "source": [
        "train.show()"
      ],
      "execution_count": 25,
      "outputs": [
        {
          "output_type": "stream",
          "name": "stdout",
          "text": [
            "+-------------------+---------------+-------------+----------------+----------------+-----------------+--------------+--------------+------------+-------------+-------------+---------------+------------------+----------------+-----------------+-----------------+---------+--------------------+-----------------+------------------+-------------------+----------------+---------------+--------------+---------------+---------------+-----------------+--------------------+------------------+-------------------+-------------------+------------+------------+--------------+-----------------+-------------+---------------------------+----------------+---------------------+---------------------+---------------------+----------------+------------------+--------------------------------+---------------------+--------------------------+--------------------------+--------------------------+---------------------+---------------+-----------------------------+------------------+-----------------------+-----------------------+-----------------------+------------------+---------------------+-----------------------------------+------------------------+-----------------------------+-----------------------------+-----------------------------+------------------------+----------------+-----------+---------------+--------------------+-----------------+--------------+-------------------------+-----------------------------+----------------------------------+----------------------+\n",
            "|COMMUNITY AREA NAME|   CENSUS BLOCK|BUILDING TYPE|BUILDING_SUBTYPE|KWH JANUARY 2010|KWH FEBRUARY 2010|KWH MARCH 2010|KWH APRIL 2010|KWH MAY 2010|KWH JUNE 2010|KWH JULY 2010|KWH AUGUST 2010|KWH SEPTEMBER 2010|KWH OCTOBER 2010|KWH NOVEMBER 2010|KWH DECEMBER 2010|TOTAL KWH|ELECTRICITY ACCOUNTS|ZERO KWH ACCOUNTS|THERM JANUARY 2010|THERM FEBRUARY 2010|THERM MARCH 2010|TERM APRIL 2010|THERM MAY 2010|THERM JUNE 2010|THERM JULY 2010|THERM AUGUST 2010|THERM SEPTEMBER 2010|THERM OCTOBER 2010|THERM NOVEMBER 2010|THERM DECEMBER 2010|TOTAL THERMS|GAS ACCOUNTS|KWH TOTAL SQFT|THERMS TOTAL SQFT|KWH MEAN 2010|KWH STANDARD DEVIATION 2010|KWH MINIMUM 2010|KWH 1ST QUARTILE 2010|KWH 2ND QUARTILE 2010|KWH 3RD QUARTILE 2010|KWH MAXIMUM 2010|KWH SQFT MEAN 2010|KWH SQFT STANDARD DEVIATION 2010|KWH SQFT MINIMUM 2010|KWH SQFT 1ST QUARTILE 2010|KWH SQFT 2ND QUARTILE 2010|KWH SQFT 3RD QUARTILE 2010|KWH SQFT MAXIMUM 2010|THERM MEAN 2010|THERM STANDARD DEVIATION 2010|THERM MINIMUM 2010|THERM 1ST QUARTILE 2010|THERM 2ND QUARTILE 2010|THERM 3RD QUARTILE 2010|THERM MAXIMUM 2010|THERMS SQFT MEAN 2010|THERMS SQFT STANDARD DEVIATION 2010|THERMS SQFT MINIMUM 2010|THERMS SQFT 1ST QUARTILE 2010|THERMS SQFT 2ND QUARTILE 2010|THERMS SQFT 3RD QUARTILE 2010|THERMS SQFT MAXIMUM 2010|TOTAL POPULATION|TOTAL UNITS|AVERAGE STORIES|AVERAGE BUILDING AGE|AVERAGE HOUSESIZE|OCCUPIED UNITS|OCCUPIED UNITS PERCENTAGE|RENTER-OCCUPIED HOUSING UNITS|RENTER-OCCUPIED HOUSING PERCENTAGE|OCCUPIED HOUSING UNITS|\n",
            "+-------------------+---------------+-------------+----------------+----------------+-----------------+--------------+--------------+------------+-------------+-------------+---------------+------------------+----------------+-----------------+-----------------+---------+--------------------+-----------------+------------------+-------------------+----------------+---------------+--------------+---------------+---------------+-----------------+--------------------+------------------+-------------------+-------------------+------------+------------+--------------+-----------------+-------------+---------------------------+----------------+---------------------+---------------------+---------------------+----------------+------------------+--------------------------------+---------------------+--------------------------+--------------------------+--------------------------+---------------------+---------------+-----------------------------+------------------+-----------------------+-----------------------+-----------------------+------------------+---------------------+-----------------------------------+------------------------+-----------------------------+-----------------------------+-----------------------------+------------------------+----------------+-----------+---------------+--------------------+-----------------+--------------+-------------------------+-----------------------------+----------------------------------+----------------------+\n",
            "|     Archer Heights|170315704001006|  Residential|       Multi < 7|            null|             null|          null|          null|        null|         null|         null|           null|              null|            null|             null|             null|     null|                null|                0|              2326|               2131|            1400|            620|           502|            224|            222|              187|                 197|               252|                744|               2112|       10917|          11|          null|            11134|         null|                       null|            null|                 null|                 null|                 null|            null|              null|                            null|                 null|                      null|                      null|                      null|                 null|         1819.5|                       547.64|              1061|                 1334.0|                 1864.5|                 2306.0|              2487|              1855.67|                             490.89|                    1382|                       1382.0|                       1779.0|                       2162.0|                    2650|              89|         24|            2.0|               71.33|             3.87|            23|                   0.9582|                            9|                             0.391|                    23|\n",
            "|            Ashburn|170317005014004|  Residential|        Multi 7+|            7334|             7741|          4214|          4284|        2518|         4273|         4566|           2787|              3357|            5540|            15774|            19676|    82064|                   8|                3|              null|               null|            null|           null|          null|           null|           null|             null|                null|              null|               null|               null|        null|        null|         10892|             null|     27354.67|                   22082.79|            8886|               8886.0|              21363.0|              51815.0|           51815|           10892.0|                            null|                10892|                   10892.0|                   10892.0|                   10892.0|                10892|           null|                         null|              null|                   null|                   null|                   null|              null|                 null|                               null|                    null|                         null|                         null|                         null|                    null|             112|         67|            2.0|                41.0|             1.81|            62|                   0.9254|                           50|                            0.8059|                    62|\n",
            "|     Auburn Gresham|170317105001006|   Commercial|       Multi < 7|            null|             null|          null|          null|        null|         null|         null|           null|              null|            null|             null|             null|     null|                null|                7|              1561|               1388|            1507|            701|           486|            380|             18|               16|                null|              null|               null|               null|        6057|           4|          null|             7347|         null|                       null|            null|                 null|                 null|                 null|            null|              null|                            null|                 null|                      null|                      null|                      null|                 null|         3028.5|                      4150.01|                94|                   94.0|                 3028.5|                 5963.0|              5963|               7347.0|                               null|                    7347|                       7347.0|                       7347.0|                       7347.0|                    7347|             102|         48|            3.0|                86.0|              3.0|            34|                   0.7082|                           23|                            0.6759|                    34|\n",
            "|             Austin|170312503003003|   Commercial|       Multi < 7|            null|             null|          null|          null|        null|         null|         null|           null|              null|            null|             null|             null|     null|                null|                2|              null|               null|            null|           null|          null|           null|           null|             null|                null|              null|                  9|                391|         400| Less than 4|          null|             2146|         null|                       null|            null|                 null|                 null|                 null|            null|              null|                            null|                 null|                      null|                      null|                      null|                 null|          400.0|                         null|               400|                  400.0|                  400.0|                  400.0|               400|               2146.0|                               null|                    2146|                       2146.0|                       2146.0|                       2146.0|                    2146|             121|         56|            2.0|                84.0|             2.95|            41|                   0.7321|                           32|                              0.78|                    41|\n",
            "|             Austin|170312504002008|   Commercial|       Multi < 7|            null|             null|          null|          null|        null|         null|         null|           null|              null|            null|             null|             null|     null|                null|                3|               310|                268|             163|             77|            57|             23|             19|                8|                  14|                10|               null|               null|         949| Less than 4|          null|             2146|         null|                       null|            null|                 null|                 null|                 null|            null|              null|                            null|                 null|                      null|                      null|                      null|                 null|          949.0|                         null|               949|                  949.0|                  949.0|                  949.0|               949|               2146.0|                               null|                    2146|                       2146.0|                       2146.0|                       2146.0|                    2146|              62|         23|            2.0|                85.0|             3.26|            19|                   0.8261|                           11|                             0.579|                    19|\n",
            "|             Austin|170312517001044|   Commercial|      Commercial|               0|                0|             0|             0|           0|            0|            0|            819|               619|             416|              138|                2|     1994|         Less than 4|                1|              null|               null|            null|           null|          null|           null|           null|             null|                null|              null|               null|               null|        null|        null|          1512|             null|       1994.0|                       null|            1994|               1994.0|               1994.0|               1994.0|            1994|            1512.0|                            null|                 1512|                    1512.0|                    1512.0|                    1512.0|                 1512|           null|                         null|              null|                   null|                   null|                   null|              null|                 null|                               null|                    null|                         null|                         null|                         null|                    null|              54|         18|            2.0|               131.0|              3.0|            18|                      1.0|                           10|                             0.556|                    18|\n",
            "|             Austin|170312518003009|   Commercial|      Commercial|            null|             null|          null|          null|        null|         null|         null|           null|              null|            null|             null|             null|     null|                null|                0|              3041|               2680|            1151|            373|           124|             26|             29|               25|                  49|               177|                670|               3895|       12240| Less than 4|          null|            69800|         null|                       null|            null|                 null|                 null|                 null|            null|              null|                            null|                 null|                      null|                      null|                      null|                 null|         6120.0|                      3505.84|              3641|                 3641.0|                 6120.0|                 8599.0|              8599|              34900.0|                           32244.07|                   12100|                      12100.0|                      34900.0|                      57700.0|                   57700|               0|          0|            1.0|                54.0|              0.0|             0|                     null|                            0|                              null|                     0|\n",
            "|             Austin|170312520004000|   Commercial|       Multi < 7|            1470|             1325|           294|           391|         366|         2204|         2345|           2032|               920|             586|              705|              785|    13423|         Less than 4|                3|              null|               null|            null|           null|          null|           null|           null|             null|                null|              null|               null|               null|        null|        null|          1988|             null|      13423.0|                       null|           13423|              13423.0|              13423.0|              13423.0|           13423|            1988.0|                            null|                 1988|                    1988.0|                    1988.0|                    1988.0|                 1988|           null|                         null|              null|                   null|                   null|                   null|              null|                 null|                               null|                    null|                         null|                         null|                         null|                    null|              64|         63|            2.0|               131.0|             1.02|            59|                   0.9365|                           59|                               1.0|                    59|\n",
            "|             Austin|170312521011000|  Residential|        Multi 7+|            2461|             4888|          2893|          2737|        2350|         3037|         3874|           4861|              5180|            2984|             2635|             3597|    41497|                   6|                0|              null|               null|            null|           null|          null|           null|           null|             null|                null|              null|               null|               null|        null|        null|          4500|             null|      41497.0|                       null|           41497|              41497.0|              41497.0|              41497.0|           41497|            4500.0|                            null|                 4500|                    4500.0|                    4500.0|                    4500.0|                 4500|           null|                         null|              null|                   null|                   null|                   null|              null|                 null|                               null|                    null|                         null|                         null|                         null|                    null|              79|         31|            3.0|                99.0|             2.93|            27|                    0.871|                           27|                               1.0|                    27|\n",
            "|             Austin|170312521011008|  Residential|        Multi 7+|               0|                0|             0|             0|           0|          511|          904|           1818|              1968|             738|              450|             2207|     8596|         Less than 4|                0|              null|               null|            null|           null|          null|           null|           null|             null|                null|              null|               null|               null|        null|        null|          4500|             null|       8596.0|                       null|            8596|               8596.0|               8596.0|               8596.0|            8596|            4500.0|                            null|                 4500|                    4500.0|                    4500.0|                    4500.0|                 4500|           null|                         null|              null|                   null|                   null|                   null|              null|                 null|                               null|                    null|                         null|                         null|                         null|                    null|              84|         33|            3.0|                99.0|             3.82|            22|                   0.6667|                           16|                             0.727|                    22|\n",
            "|             Austin|170312521023012|  Residential|       Multi < 7|              96|              202|          1837|          1118|         669|          889|          812|           1880|              1743|             696|              684|              903|    11529|                   5|                8|              null|               null|            null|           null|          null|           null|           null|             null|                null|              null|               null|               null|        null|        null|          5672|             null|       3843.0|                    2401.76|            1344|               1344.0|               4051.0|               6134.0|            6134|            5672.0|                            null|                 5672|                    5672.0|                    5672.0|                    5672.0|                 5672|           null|                         null|              null|                   null|                   null|                   null|              null|                 null|                               null|                    null|                         null|                         null|                         null|                    null|               0|          0|            1.0|                 0.0|              0.0|             0|                     null|                            0|                              null|                     0|\n",
            "|             Austin|170312522025000|   Commercial|       Multi < 7|            null|             null|          null|          null|        null|         null|         null|           null|              null|            null|             null|             null|     null|                null|                1|               910|                738|             632|            448|           254|            113|             42|               29|                  33|                36|                166|                633|        4034| Less than 4|          null|             5166|         null|                       null|            null|                 null|                 null|                 null|            null|              null|                            null|                 null|                      null|                      null|                      null|                 null|         4034.0|                         null|              4034|                 4034.0|                 4034.0|                 4034.0|              4034|               5166.0|                               null|                    5166|                       5166.0|                       5166.0|                       5166.0|                    5166|               0|          0|            2.0|                87.0|              0.0|             0|                     null|                            0|                              null|                     0|\n",
            "|           Avondale|170312105012012|   Commercial|       Multi < 7|            6113|             6669|          5851|          8723|        8025|         9396|         8373|           8889|              9586|            9638|             8655|            10591|   100509|                   4|                0|              null|               null|            null|           null|          null|           null|           null|             null|                null|              null|               null|               null|        null|        null|          4190|             null|      33503.0|                   37888.54|            8599|               8599.0|              14804.0|              77106.0|           77106|            4190.0|                            null|                 4190|                    4190.0|                    4190.0|                    4190.0|                 4190|           null|                         null|              null|                   null|                   null|                   null|              null|                 null|                               null|                    null|                         null|                         null|                         null|                    null|              53|         39|            1.0|                 0.0|             1.61|            33|                   0.8462|                           33|                               1.0|                    33|\n",
            "|           Avondale|170312105023000|   Commercial|       Multi < 7|            null|             null|          null|          null|        null|         null|         null|           null|              null|            null|             null|             null|     null|                null|                1|               535|                458|             481|            307|           194|            145|            119|              102|                  88|               109|                141|                249|        2928|           4|          null|             3967|         null|                       null|            null|                 null|                 null|                 null|            null|              null|                            null|                 null|                      null|                      null|                      null|                 null|         2928.0|                         null|              2928|                 2928.0|                 2928.0|                 2928.0|              2928|               3967.0|                               null|                    3967|                       3967.0|                       3967.0|                       3967.0|                    3967|             176|         61|            1.0|                 0.0|             4.09|            43|                   0.7049|                           33|                             0.767|                    43|\n",
            "|           Avondale|170312106013002|   Commercial|        Multi 7+|            null|             null|          null|          null|        null|         null|         null|           null|              null|            null|             null|             null|     null|                null|                5|              null|               null|            null|           null|          null|           null|           null|             null|                null|              null|               null|                115|         115|           4|          null|            10907|         null|                       null|            null|                 null|                 null|                 null|            null|              null|                            null|                 null|                      null|                      null|                      null|                 null|          115.0|                         null|               115|                  115.0|                  115.0|                  115.0|               115|              10907.0|                               null|                   10907|                      10907.0|                      10907.0|                      10907.0|                   10907|               3|          9|            3.0|                77.0|              3.0|             1|                    0.111|                            1|                               1.0|                     1|\n",
            "|           Avondale|170312106013005|   Commercial|       Multi < 7|               0|                0|             0|             0|          22|           32|          138|             54|                21|              18|               20|                3|      308|                   4|                0|              null|               null|            null|           null|          null|           null|           null|             null|                null|              null|               null|               null|        null|        null|          3507|             null|        308.0|                       null|             308|                308.0|                308.0|                308.0|             308|            3507.0|                            null|                 3507|                    3507.0|                    3507.0|                    3507.0|                 3507|           null|                         null|              null|                   null|                   null|                   null|              null|                 null|                               null|                    null|                         null|                         null|                         null|                    null|             113|         42|            1.0|                 0.0|             3.05|            37|                   0.8809|                           23|                             0.622|                    37|\n",
            "|           Avondale|170312106023008|   Commercial|       Multi < 7|            1593|             1853|          1626|          1493|        1922|         3637|         3605|           3579|              2585|            1430|             1696|             1813|    26832|                   4|                1|              null|               null|            null|           null|          null|           null|           null|             null|                null|              null|               null|               null|        null|        null|          3556|             null|      13416.0|                   17800.71|             829|                829.0|              13416.0|              26003.0|           26003|            1778.0|                          172.53|                 1656|                    1656.0|                    1778.0|                    1900.0|                 1900|           null|                         null|              null|                   null|                   null|                   null|              null|                 null|                               null|                    null|                         null|                         null|                         null|                    null|             207|         78|            2.0|                96.5|             3.45|            60|                   0.7692|                           45|                              0.75|                    60|\n",
            "|           Avondale|170312107001003|   Commercial|       Multi < 7|             945|              698|           586|           934|        1007|         1419|         1892|            772|               485|             369|             1743|             2880|    13730|         Less than 4|                0|              null|               null|            null|           null|          null|           null|           null|             null|                null|              null|               null|               null|        null|        null|          3000|             null|      13730.0|                       null|           13730|              13730.0|              13730.0|              13730.0|           13730|            3000.0|                            null|                 3000|                    3000.0|                    3000.0|                    3000.0|                 3000|           null|                         null|              null|                   null|                   null|                   null|              null|                 null|                               null|                    null|                         null|                         null|                         null|                    null|              58|         16|            2.0|               121.0|             3.87|            15|                   0.9375|                            9|                               0.6|                    15|\n",
            "|           Avondale|170312109001008|   Commercial|      Commercial|            4006|             2918|          3124|          3237|        3736|         4965|         5382|           5033|              3393|            3548|             4041|             3929|    47312|         Less than 4|                1|              null|               null|            null|           null|          null|           null|           null|             null|                null|              null|               null|               null|        null|        null|         18700|             null|      23656.0|                    6622.76|           18973|              18973.0|              23656.0|              28339.0|           28339|            9350.0|                          494.97|                 9000|                    9000.0|                    9350.0|                    9700.0|                 9700|           null|                         null|              null|                   null|                   null|                   null|              null|                 null|                               null|                    null|                         null|                         null|                         null|                    null|               2|          1|            1.0|                63.0|              2.0|             1|                      1.0|                            0|                               0.0|                     1|\n",
            "|           Avondale|170312109001038|  Residential|       Multi < 7|            null|             null|          null|          null|        null|         null|         null|           null|              null|            null|             null|             null|     null|                null|                4|               285|                285|             244|            129|            73|             46|             39|               27|                  39|                29|                 50|                144|        1390| Less than 4|          null|             1936|         null|                       null|            null|                 null|                 null|                 null|            null|              null|                            null|                 null|                      null|                      null|                      null|                 null|         1390.0|                         null|              1390|                 1390.0|                 1390.0|                 1390.0|              1390|               1936.0|                               null|                    1936|                       1936.0|                       1936.0|                       1936.0|                    1936|              33|         16|            2.0|               101.0|              2.2|            15|                   0.9375|                            2|                             0.133|                    15|\n",
            "+-------------------+---------------+-------------+----------------+----------------+-----------------+--------------+--------------+------------+-------------+-------------+---------------+------------------+----------------+-----------------+-----------------+---------+--------------------+-----------------+------------------+-------------------+----------------+---------------+--------------+---------------+---------------+-----------------+--------------------+------------------+-------------------+-------------------+------------+------------+--------------+-----------------+-------------+---------------------------+----------------+---------------------+---------------------+---------------------+----------------+------------------+--------------------------------+---------------------+--------------------------+--------------------------+--------------------------+---------------------+---------------+-----------------------------+------------------+-----------------------+-----------------------+-----------------------+------------------+---------------------+-----------------------------------+------------------------+-----------------------------+-----------------------------+-----------------------------+------------------------+----------------+-----------+---------------+--------------------+-----------------+--------------+-------------------------+-----------------------------+----------------------------------+----------------------+\n",
            "only showing top 20 rows\n",
            "\n"
          ]
        }
      ]
    },
    {
      "cell_type": "code",
      "metadata": {
        "id": "R0eZFwB-5Dhy",
        "colab": {
          "base_uri": "https://localhost:8080/"
        },
        "outputId": "8ea15738-343d-4434-9d28-3897055d1caf"
      },
      "source": [
        "train.count()"
      ],
      "execution_count": 26,
      "outputs": [
        {
          "output_type": "execute_result",
          "data": {
            "text/plain": [
              "67051"
            ]
          },
          "metadata": {},
          "execution_count": 26
        }
      ]
    },
    {
      "cell_type": "code",
      "metadata": {
        "id": "jd4jsvpo5Odq",
        "colab": {
          "base_uri": "https://localhost:8080/"
        },
        "outputId": "c66b877a-5d26-4c82-b0d9-1d4bd0cfa2af"
      },
      "source": [
        "len(train.columns), train.columns"
      ],
      "execution_count": 27,
      "outputs": [
        {
          "output_type": "execute_result",
          "data": {
            "text/plain": [
              "(73,\n",
              " ['COMMUNITY AREA NAME',\n",
              "  'CENSUS BLOCK',\n",
              "  'BUILDING TYPE',\n",
              "  'BUILDING_SUBTYPE',\n",
              "  'KWH JANUARY 2010',\n",
              "  'KWH FEBRUARY 2010',\n",
              "  'KWH MARCH 2010',\n",
              "  'KWH APRIL 2010',\n",
              "  'KWH MAY 2010',\n",
              "  'KWH JUNE 2010',\n",
              "  'KWH JULY 2010',\n",
              "  'KWH AUGUST 2010',\n",
              "  'KWH SEPTEMBER 2010',\n",
              "  'KWH OCTOBER 2010',\n",
              "  'KWH NOVEMBER 2010',\n",
              "  'KWH DECEMBER 2010',\n",
              "  'TOTAL KWH',\n",
              "  'ELECTRICITY ACCOUNTS',\n",
              "  'ZERO KWH ACCOUNTS',\n",
              "  'THERM JANUARY 2010',\n",
              "  'THERM FEBRUARY 2010',\n",
              "  'THERM MARCH 2010',\n",
              "  'TERM APRIL 2010',\n",
              "  'THERM MAY 2010',\n",
              "  'THERM JUNE 2010',\n",
              "  'THERM JULY 2010',\n",
              "  'THERM AUGUST 2010',\n",
              "  'THERM SEPTEMBER 2010',\n",
              "  'THERM OCTOBER 2010',\n",
              "  'THERM NOVEMBER 2010',\n",
              "  'THERM DECEMBER 2010',\n",
              "  'TOTAL THERMS',\n",
              "  'GAS ACCOUNTS',\n",
              "  'KWH TOTAL SQFT',\n",
              "  'THERMS TOTAL SQFT',\n",
              "  'KWH MEAN 2010',\n",
              "  'KWH STANDARD DEVIATION 2010',\n",
              "  'KWH MINIMUM 2010',\n",
              "  'KWH 1ST QUARTILE 2010',\n",
              "  'KWH 2ND QUARTILE 2010',\n",
              "  'KWH 3RD QUARTILE 2010',\n",
              "  'KWH MAXIMUM 2010',\n",
              "  'KWH SQFT MEAN 2010',\n",
              "  'KWH SQFT STANDARD DEVIATION 2010',\n",
              "  'KWH SQFT MINIMUM 2010',\n",
              "  'KWH SQFT 1ST QUARTILE 2010',\n",
              "  'KWH SQFT 2ND QUARTILE 2010',\n",
              "  'KWH SQFT 3RD QUARTILE 2010',\n",
              "  'KWH SQFT MAXIMUM 2010',\n",
              "  'THERM MEAN 2010',\n",
              "  'THERM STANDARD DEVIATION 2010',\n",
              "  'THERM MINIMUM 2010',\n",
              "  'THERM 1ST QUARTILE 2010',\n",
              "  'THERM 2ND QUARTILE 2010',\n",
              "  'THERM 3RD QUARTILE 2010',\n",
              "  'THERM MAXIMUM 2010',\n",
              "  'THERMS SQFT MEAN 2010',\n",
              "  'THERMS SQFT STANDARD DEVIATION 2010',\n",
              "  'THERMS SQFT MINIMUM 2010',\n",
              "  'THERMS SQFT 1ST QUARTILE 2010',\n",
              "  'THERMS SQFT 2ND QUARTILE 2010',\n",
              "  'THERMS SQFT 3RD QUARTILE 2010',\n",
              "  'THERMS SQFT MAXIMUM 2010',\n",
              "  'TOTAL POPULATION',\n",
              "  'TOTAL UNITS',\n",
              "  'AVERAGE STORIES',\n",
              "  'AVERAGE BUILDING AGE',\n",
              "  'AVERAGE HOUSESIZE',\n",
              "  'OCCUPIED UNITS',\n",
              "  'OCCUPIED UNITS PERCENTAGE',\n",
              "  'RENTER-OCCUPIED HOUSING UNITS',\n",
              "  'RENTER-OCCUPIED HOUSING PERCENTAGE',\n",
              "  'OCCUPIED HOUSING UNITS'])"
            ]
          },
          "metadata": {},
          "execution_count": 27
        }
      ]
    },
    {
      "cell_type": "code",
      "metadata": {
        "id": "D8EkUTYg6b06",
        "colab": {
          "base_uri": "https://localhost:8080/"
        },
        "outputId": "7809dc28-83cd-4609-956c-a4a33b159772"
      },
      "source": [
        "train.describe('TOTAL KWH').show()"
      ],
      "execution_count": 28,
      "outputs": [
        {
          "output_type": "stream",
          "name": "stdout",
          "text": [
            "+-------+------------------+\n",
            "|summary|         TOTAL KWH|\n",
            "+-------+------------------+\n",
            "|  count|             66180|\n",
            "|   mean|237518.76136294953|\n",
            "| stddev| 4294268.782917339|\n",
            "|    min|               102|\n",
            "|    max|         583174732|\n",
            "+-------+------------------+\n",
            "\n"
          ]
        }
      ]
    },
    {
      "cell_type": "code",
      "metadata": {
        "id": "fVN3VeMh6k4U",
        "colab": {
          "base_uri": "https://localhost:8080/"
        },
        "outputId": "51027e8d-25d8-4c85-e12f-1502a2e30f16"
      },
      "source": [
        "train.select('COMMUNITY AREA NAME','CENSUS BLOCK').show(5)"
      ],
      "execution_count": 29,
      "outputs": [
        {
          "output_type": "stream",
          "name": "stdout",
          "text": [
            "+-------------------+---------------+\n",
            "|COMMUNITY AREA NAME|   CENSUS BLOCK|\n",
            "+-------------------+---------------+\n",
            "|     Archer Heights|170315704001006|\n",
            "|            Ashburn|170317005014004|\n",
            "|     Auburn Gresham|170317105001006|\n",
            "|             Austin|170312503003003|\n",
            "|             Austin|170312504002008|\n",
            "+-------------------+---------------+\n",
            "only showing top 5 rows\n",
            "\n"
          ]
        }
      ]
    },
    {
      "cell_type": "code",
      "metadata": {
        "colab": {
          "base_uri": "https://localhost:8080/"
        },
        "id": "40FP1kVG4pjE",
        "outputId": "f400d8eb-0b80-4ac5-9138-2d6a44190274"
      },
      "source": [
        "train.select('TOTAL POPULATION').distinct().count()"
      ],
      "execution_count": 30,
      "outputs": [
        {
          "output_type": "execute_result",
          "data": {
            "text/plain": [
              "709"
            ]
          },
          "metadata": {},
          "execution_count": 30
        }
      ]
    },
    {
      "cell_type": "code",
      "source": [
        "train.select('TOTAL UNITS').distinct().count()"
      ],
      "metadata": {
        "colab": {
          "base_uri": "https://localhost:8080/"
        },
        "id": "9iEkx9NPkF4_",
        "outputId": "0a216909-4058-4cc8-f0b5-a8690ea73ad6"
      },
      "execution_count": 33,
      "outputs": [
        {
          "output_type": "execute_result",
          "data": {
            "text/plain": [
              "551"
            ]
          },
          "metadata": {},
          "execution_count": 33
        }
      ]
    },
    {
      "cell_type": "code",
      "metadata": {
        "colab": {
          "base_uri": "https://localhost:8080/"
        },
        "id": "Jlk_CDzzdJ0o",
        "outputId": "010ed7b3-9199-42e5-fb40-37b9f6ee9213"
      },
      "source": [
        "train.select('OCCUPIED UNITS').distinct().count()"
      ],
      "execution_count": 34,
      "outputs": [
        {
          "output_type": "execute_result",
          "data": {
            "text/plain": [
              "510"
            ]
          },
          "metadata": {},
          "execution_count": 34
        }
      ]
    },
    {
      "cell_type": "code",
      "metadata": {
        "id": "_yOfDym16say",
        "colab": {
          "base_uri": "https://localhost:8080/"
        },
        "outputId": "71a4b1ce-2559-40d5-fb75-ca358467ea70"
      },
      "source": [
        "train.select('TOTAL THERMS').distinct().count()"
      ],
      "execution_count": 35,
      "outputs": [
        {
          "output_type": "execute_result",
          "data": {
            "text/plain": [
              "28769"
            ]
          },
          "metadata": {},
          "execution_count": 35
        }
      ]
    },
    {
      "cell_type": "code",
      "metadata": {
        "id": "zXQXgyjg7OMg",
        "colab": {
          "base_uri": "https://localhost:8080/"
        },
        "outputId": "a87c8df3-028e-4a14-d03e-4734c78d9935"
      },
      "source": [
        "train.crosstab('CENSUS BLOCK', 'BUILDING TYPE').show()"
      ],
      "execution_count": 39,
      "outputs": [
        {
          "output_type": "stream",
          "name": "stdout",
          "text": [
            "+--------------------------+----------+----------+-----------+----+\n",
            "|CENSUS BLOCK_BUILDING TYPE|Commercial|Industrial|Residential|null|\n",
            "+--------------------------+----------+----------+-----------+----+\n",
            "|           170317003011006|         0|         0|          1|   0|\n",
            "|           170314402013000|         2|         0|          1|   0|\n",
            "|           170310620002000|         2|         0|          2|   0|\n",
            "|           170312511004006|         1|         0|          2|   0|\n",
            "|           170312604001037|         1|         0|          1|   0|\n",
            "|           170311203001023|         0|         0|          1|   0|\n",
            "|           170311504023012|         0|         0|          2|   0|\n",
            "|           170318322001012|         1|         0|          2|   0|\n",
            "|           170316502005009|         0|         0|          1|   0|\n",
            "|           170310207011009|         0|         0|          1|   0|\n",
            "|           170316304002016|         1|         0|          0|   0|\n",
            "|           170311004003019|         0|         0|          1|   0|\n",
            "|           170310205001004|         1|         0|          2|   0|\n",
            "|           170315805014004|         0|         1|          1|   0|\n",
            "|           170318343006033|         0|         0|          1|   0|\n",
            "|           170311201001004|         0|         0|          1|   0|\n",
            "|           170314912001014|         0|         0|          2|   0|\n",
            "|           170312606002010|         1|         0|          1|   0|\n",
            "|           170316403003004|         0|         0|          2|   0|\n",
            "|           170312912002011|         1|         0|          1|   0|\n",
            "+--------------------------+----------+----------+-----------+----+\n",
            "only showing top 20 rows\n",
            "\n"
          ]
        }
      ]
    },
    {
      "cell_type": "code",
      "metadata": {
        "id": "6Mo04ibh6EwH"
      },
      "source": [
        "#train.crosstab('Age', 'Gender').describe().show()"
      ],
      "execution_count": null,
      "outputs": []
    },
    {
      "cell_type": "code",
      "metadata": {
        "id": "keMLcVRL7Wmo",
        "colab": {
          "base_uri": "https://localhost:8080/"
        },
        "outputId": "5ef23e81-7134-4a20-d33c-314375c59d4f"
      },
      "source": [
        "train.select('CENSUS BLOCK','TOTAL KWH').dropDuplicates().show()"
      ],
      "execution_count": 40,
      "outputs": [
        {
          "output_type": "stream",
          "name": "stdout",
          "text": [
            "+---------------+---------+\n",
            "|   CENSUS BLOCK|TOTAL KWH|\n",
            "+---------------+---------+\n",
            "|170316118001016|     null|\n",
            "|170316204004015|     null|\n",
            "|170318362001023|     3727|\n",
            "|170317103001027|     4252|\n",
            "|170310506002002|     null|\n",
            "|170311402001009|   123759|\n",
            "|170313012003008|     null|\n",
            "|170311406011016|    56383|\n",
            "|170311406024002|    73277|\n",
            "|170315703002013|     5254|\n",
            "|170315705001014|    70963|\n",
            "|170317004013007|    96245|\n",
            "|170317004022014|   134904|\n",
            "|170317004022016|    91590|\n",
            "|170317101001008|    24274|\n",
            "|170317105001013|    17570|\n",
            "|170317107002010|    55258|\n",
            "|170317108004011|   116795|\n",
            "|170317108005017|     8795|\n",
            "|170317112003017|   110676|\n",
            "+---------------+---------+\n",
            "only showing top 20 rows\n",
            "\n"
          ]
        }
      ]
    },
    {
      "cell_type": "code",
      "metadata": {
        "id": "Ykeq-Ww67j18",
        "colab": {
          "base_uri": "https://localhost:8080/"
        },
        "outputId": "8e2232d0-e661-4fb9-d9f0-db6c76884e5e"
      },
      "source": [
        "train.dropna().count()"
      ],
      "execution_count": 41,
      "outputs": [
        {
          "output_type": "execute_result",
          "data": {
            "text/plain": [
              "45884"
            ]
          },
          "metadata": {},
          "execution_count": 41
        }
      ]
    },
    {
      "cell_type": "code",
      "metadata": {
        "id": "x5too3Xx6_S8"
      },
      "source": [
        "#train.dropna().show(2)"
      ],
      "execution_count": null,
      "outputs": []
    },
    {
      "cell_type": "code",
      "metadata": {
        "id": "BtT5KUg2-KZ9",
        "colab": {
          "base_uri": "https://localhost:8080/"
        },
        "outputId": "3ab43263-7919-456e-ee05-5106f6f8066d"
      },
      "source": [
        "train.fillna(-1).count()\n",
        "#train.fillna('x').show(3)"
      ],
      "execution_count": 42,
      "outputs": [
        {
          "output_type": "execute_result",
          "data": {
            "text/plain": [
              "67051"
            ]
          },
          "metadata": {},
          "execution_count": 42
        }
      ]
    },
    {
      "cell_type": "code",
      "metadata": {
        "id": "6ofc-o3v7vB0",
        "colab": {
          "base_uri": "https://localhost:8080/"
        },
        "outputId": "486302a7-23ec-4793-f72d-491c572c4e96"
      },
      "source": [
        "train.fillna(-1).show(2)"
      ],
      "execution_count": 43,
      "outputs": [
        {
          "output_type": "stream",
          "name": "stdout",
          "text": [
            "+-------------------+---------------+-------------+----------------+----------------+-----------------+--------------+--------------+------------+-------------+-------------+---------------+------------------+----------------+-----------------+-----------------+---------+--------------------+-----------------+------------------+-------------------+----------------+---------------+--------------+---------------+---------------+-----------------+--------------------+------------------+-------------------+-------------------+------------+------------+--------------+-----------------+-------------+---------------------------+----------------+---------------------+---------------------+---------------------+----------------+------------------+--------------------------------+---------------------+--------------------------+--------------------------+--------------------------+---------------------+---------------+-----------------------------+------------------+-----------------------+-----------------------+-----------------------+------------------+---------------------+-----------------------------------+------------------------+-----------------------------+-----------------------------+-----------------------------+------------------------+----------------+-----------+---------------+--------------------+-----------------+--------------+-------------------------+-----------------------------+----------------------------------+----------------------+\n",
            "|COMMUNITY AREA NAME|   CENSUS BLOCK|BUILDING TYPE|BUILDING_SUBTYPE|KWH JANUARY 2010|KWH FEBRUARY 2010|KWH MARCH 2010|KWH APRIL 2010|KWH MAY 2010|KWH JUNE 2010|KWH JULY 2010|KWH AUGUST 2010|KWH SEPTEMBER 2010|KWH OCTOBER 2010|KWH NOVEMBER 2010|KWH DECEMBER 2010|TOTAL KWH|ELECTRICITY ACCOUNTS|ZERO KWH ACCOUNTS|THERM JANUARY 2010|THERM FEBRUARY 2010|THERM MARCH 2010|TERM APRIL 2010|THERM MAY 2010|THERM JUNE 2010|THERM JULY 2010|THERM AUGUST 2010|THERM SEPTEMBER 2010|THERM OCTOBER 2010|THERM NOVEMBER 2010|THERM DECEMBER 2010|TOTAL THERMS|GAS ACCOUNTS|KWH TOTAL SQFT|THERMS TOTAL SQFT|KWH MEAN 2010|KWH STANDARD DEVIATION 2010|KWH MINIMUM 2010|KWH 1ST QUARTILE 2010|KWH 2ND QUARTILE 2010|KWH 3RD QUARTILE 2010|KWH MAXIMUM 2010|KWH SQFT MEAN 2010|KWH SQFT STANDARD DEVIATION 2010|KWH SQFT MINIMUM 2010|KWH SQFT 1ST QUARTILE 2010|KWH SQFT 2ND QUARTILE 2010|KWH SQFT 3RD QUARTILE 2010|KWH SQFT MAXIMUM 2010|THERM MEAN 2010|THERM STANDARD DEVIATION 2010|THERM MINIMUM 2010|THERM 1ST QUARTILE 2010|THERM 2ND QUARTILE 2010|THERM 3RD QUARTILE 2010|THERM MAXIMUM 2010|THERMS SQFT MEAN 2010|THERMS SQFT STANDARD DEVIATION 2010|THERMS SQFT MINIMUM 2010|THERMS SQFT 1ST QUARTILE 2010|THERMS SQFT 2ND QUARTILE 2010|THERMS SQFT 3RD QUARTILE 2010|THERMS SQFT MAXIMUM 2010|TOTAL POPULATION|TOTAL UNITS|AVERAGE STORIES|AVERAGE BUILDING AGE|AVERAGE HOUSESIZE|OCCUPIED UNITS|OCCUPIED UNITS PERCENTAGE|RENTER-OCCUPIED HOUSING UNITS|RENTER-OCCUPIED HOUSING PERCENTAGE|OCCUPIED HOUSING UNITS|\n",
            "+-------------------+---------------+-------------+----------------+----------------+-----------------+--------------+--------------+------------+-------------+-------------+---------------+------------------+----------------+-----------------+-----------------+---------+--------------------+-----------------+------------------+-------------------+----------------+---------------+--------------+---------------+---------------+-----------------+--------------------+------------------+-------------------+-------------------+------------+------------+--------------+-----------------+-------------+---------------------------+----------------+---------------------+---------------------+---------------------+----------------+------------------+--------------------------------+---------------------+--------------------------+--------------------------+--------------------------+---------------------+---------------+-----------------------------+------------------+-----------------------+-----------------------+-----------------------+------------------+---------------------+-----------------------------------+------------------------+-----------------------------+-----------------------------+-----------------------------+------------------------+----------------+-----------+---------------+--------------------+-----------------+--------------+-------------------------+-----------------------------+----------------------------------+----------------------+\n",
            "|     Archer Heights|170315704001006|  Residential|       Multi < 7|              -1|               -1|            -1|            -1|          -1|           -1|           -1|             -1|                -1|              -1|               -1|               -1|       -1|                null|                0|              2326|               2131|            1400|            620|           502|            224|            222|              187|                 197|               252|                744|               2112|       10917|          11|            -1|            11134|         -1.0|                       -1.0|              -1|                 -1.0|                 -1.0|                 -1.0|              -1|              -1.0|                            -1.0|                   -1|                      -1.0|                      -1.0|                      -1.0|                   -1|         1819.5|                       547.64|              1061|                 1334.0|                 1864.5|                 2306.0|              2487|              1855.67|                             490.89|                    1382|                       1382.0|                       1779.0|                       2162.0|                    2650|              89|         24|            2.0|               71.33|             3.87|            23|                   0.9582|                            9|                             0.391|                    23|\n",
            "|            Ashburn|170317005014004|  Residential|        Multi 7+|            7334|             7741|          4214|          4284|        2518|         4273|         4566|           2787|              3357|            5540|            15774|            19676|    82064|                   8|                3|                -1|                 -1|              -1|             -1|            -1|             -1|             -1|               -1|                  -1|                -1|                 -1|                 -1|          -1|        null|         10892|               -1|     27354.67|                   22082.79|            8886|               8886.0|              21363.0|              51815.0|           51815|           10892.0|                            -1.0|                10892|                   10892.0|                   10892.0|                   10892.0|                10892|           -1.0|                         -1.0|                -1|                   -1.0|                   -1.0|                   -1.0|                -1|                 -1.0|                               -1.0|                      -1|                         -1.0|                         -1.0|                         -1.0|                      -1|             112|         67|            2.0|                41.0|             1.81|            62|                   0.9254|                           50|                            0.8059|                    62|\n",
            "+-------------------+---------------+-------------+----------------+----------------+-----------------+--------------+--------------+------------+-------------+-------------+---------------+------------------+----------------+-----------------+-----------------+---------+--------------------+-----------------+------------------+-------------------+----------------+---------------+--------------+---------------+---------------+-----------------+--------------------+------------------+-------------------+-------------------+------------+------------+--------------+-----------------+-------------+---------------------------+----------------+---------------------+---------------------+---------------------+----------------+------------------+--------------------------------+---------------------+--------------------------+--------------------------+--------------------------+---------------------+---------------+-----------------------------+------------------+-----------------------+-----------------------+-----------------------+------------------+---------------------+-----------------------------------+------------------------+-----------------------------+-----------------------------+-----------------------------+------------------------+----------------+-----------+---------------+--------------------+-----------------+--------------+-------------------------+-----------------------------+----------------------------------+----------------------+\n",
            "only showing top 2 rows\n",
            "\n"
          ]
        }
      ]
    },
    {
      "cell_type": "code",
      "metadata": {
        "id": "6tkQo4uv74m0",
        "colab": {
          "base_uri": "https://localhost:8080/"
        },
        "outputId": "a5617149-3889-486b-df49-eece874305ea"
      },
      "source": [
        "train.filter(train[\"THERM MAXIMUM 2010\"] > 1500).count()"
      ],
      "execution_count": 45,
      "outputs": [
        {
          "output_type": "execute_result",
          "data": {
            "text/plain": [
              "59528"
            ]
          },
          "metadata": {},
          "execution_count": 45
        }
      ]
    },
    {
      "cell_type": "code",
      "metadata": {
        "id": "UVgLE02u8AHw",
        "colab": {
          "base_uri": "https://localhost:8080/"
        },
        "outputId": "82cbcab8-6e52-4816-c39a-de44764a7c50"
      },
      "source": [
        "train.groupby('COMMUNITY AREA NAME').agg({'TOTAL UNITS': 'mean'}).show()"
      ],
      "execution_count": 46,
      "outputs": [
        {
          "output_type": "stream",
          "name": "stdout",
          "text": [
            "+-------------------+------------------+\n",
            "|COMMUNITY AREA NAME|  avg(TOTAL UNITS)|\n",
            "+-------------------+------------------+\n",
            "|         North Park|35.118895966029726|\n",
            "|    Near North Side|236.03153153153153|\n",
            "|       North Center|   37.727959697733|\n",
            "|            Ashburn| 24.48963133640553|\n",
            "|     Garfield Ridge|21.334054054054054|\n",
            "|     North Lawndale| 38.89310009718173|\n",
            "|       Lincoln Park| 91.62845583277141|\n",
            "|            Beverly|32.119929453262785|\n",
            "|         West Ridge| 51.95106649937265|\n",
            "|       Chicago Lawn| 32.76569343065693|\n",
            "|           New City|31.101217656012178|\n",
            "|            Oakland| 82.28703703703704|\n",
            "|            Kenwood|123.75527426160338|\n",
            "|             O'Hare|150.83193277310923|\n",
            "|          Riverdale| 70.90163934426229|\n",
            "|          Hegewisch|20.701219512195124|\n",
            "|    Calumet Heights| 19.40485829959514|\n",
            "| Washington Heights|25.211340206185568|\n",
            "|       Portage Park|37.336763865065755|\n",
            "|        Albany Park|45.117850953206236|\n",
            "+-------------------+------------------+\n",
            "only showing top 20 rows\n",
            "\n"
          ]
        }
      ]
    },
    {
      "cell_type": "code",
      "metadata": {
        "id": "syYsTjH_8Gns",
        "colab": {
          "base_uri": "https://localhost:8080/"
        },
        "outputId": "af01fde2-e4e8-47d5-a75e-1d337b36e437"
      },
      "source": [
        "train.groupby('BUILDING TYPE').agg({'AVERAGE STORIES': 'max'}).show()"
      ],
      "execution_count": 47,
      "outputs": [
        {
          "output_type": "stream",
          "name": "stdout",
          "text": [
            "+-------------+--------------------+\n",
            "|BUILDING TYPE|max(AVERAGE STORIES)|\n",
            "+-------------+--------------------+\n",
            "|  Residential|                53.0|\n",
            "|         null|               18.47|\n",
            "|   Industrial|                10.0|\n",
            "|   Commercial|               110.0|\n",
            "+-------------+--------------------+\n",
            "\n"
          ]
        }
      ]
    },
    {
      "cell_type": "code",
      "metadata": {
        "id": "kuOTSspC-Qny",
        "colab": {
          "base_uri": "https://localhost:8080/"
        },
        "outputId": "027ee85a-787a-4ab6-cdb0-7b53ebe1f7a1"
      },
      "source": [
        "train.groupby('OCCUPIED HOUSING UNITS').count().show()"
      ],
      "execution_count": 48,
      "outputs": [
        {
          "output_type": "stream",
          "name": "stdout",
          "text": [
            "+----------------------+-----+\n",
            "|OCCUPIED HOUSING UNITS|count|\n",
            "+----------------------+-----+\n",
            "|                   148|   10|\n",
            "|                   243|    5|\n",
            "|                    31|  971|\n",
            "|                    85|   41|\n",
            "|                   137|   21|\n",
            "|                   251|    5|\n",
            "|                    65|  143|\n",
            "|                    53|  304|\n",
            "|                   588|    4|\n",
            "|                   255|    4|\n",
            "|                   133|   11|\n",
            "|                   853|    1|\n",
            "|                    78|   96|\n",
            "|                  4624|    1|\n",
            "|                   857|    1|\n",
            "|                   155|   18|\n",
            "|                   108|   29|\n",
            "|                    34|  941|\n",
            "|                  8396|    1|\n",
            "|                   368|    4|\n",
            "+----------------------+-----+\n",
            "only showing top 20 rows\n",
            "\n"
          ]
        }
      ]
    },
    {
      "cell_type": "code",
      "metadata": {
        "id": "HcVSkcLX_v8G",
        "colab": {
          "base_uri": "https://localhost:8080/"
        },
        "outputId": "cffdff6c-f0c4-4545-cfa4-c108466c9390"
      },
      "source": [
        "t1 = train.sample(False, 0.2, 42)\n",
        "t2 = train.sample(False, 0.2, 43)\n",
        "t1.count(),t2.count()"
      ],
      "execution_count": 49,
      "outputs": [
        {
          "output_type": "execute_result",
          "data": {
            "text/plain": [
              "(13532, 13565)"
            ]
          },
          "metadata": {},
          "execution_count": 49
        }
      ]
    },
    {
      "cell_type": "code",
      "metadata": {
        "colab": {
          "base_uri": "https://localhost:8080/"
        },
        "id": "HiFTbida9Y1Q",
        "outputId": "54503c65-4f42-4a7b-dc03-beddbf553d55"
      },
      "source": [
        "t1 = train.sample(False, 0.2, 1142)\n",
        "t2 = train.sample(False, 0.2, 2243)\n",
        "t1.count(),t2.count()"
      ],
      "execution_count": 50,
      "outputs": [
        {
          "output_type": "execute_result",
          "data": {
            "text/plain": [
              "(13390, 13364)"
            ]
          },
          "metadata": {},
          "execution_count": 50
        }
      ]
    },
    {
      "cell_type": "code",
      "metadata": {
        "id": "YecoKnI9AK2-",
        "colab": {
          "base_uri": "https://localhost:8080/"
        },
        "outputId": "a68c1bd8-3de5-4866-b906-e667b4a8ea23"
      },
      "source": [
        "#train.select('User_ID').rdd.map(lambda x:(x,1)).take(5)\n",
        "train.select('COMMUNITY AREA NAME').rdd.map(lambda x:(x,1)).take(5)"
      ],
      "execution_count": 51,
      "outputs": [
        {
          "output_type": "execute_result",
          "data": {
            "text/plain": [
              "[(Row(COMMUNITY AREA NAME='Archer Heights'), 1),\n",
              " (Row(COMMUNITY AREA NAME='Ashburn'), 1),\n",
              " (Row(COMMUNITY AREA NAME='Auburn Gresham'), 1),\n",
              " (Row(COMMUNITY AREA NAME='Austin'), 1),\n",
              " (Row(COMMUNITY AREA NAME='Austin'), 1)]"
            ]
          },
          "metadata": {},
          "execution_count": 51
        }
      ]
    },
    {
      "cell_type": "code",
      "metadata": {
        "id": "HYIlzX5eAbPw",
        "colab": {
          "base_uri": "https://localhost:8080/"
        },
        "outputId": "e5540278-a0b6-4aeb-fc0c-8661bb2d3871"
      },
      "source": [
        "train.orderBy(train[\"TOTAL UNITS\"].desc()).show(10)"
      ],
      "execution_count": 52,
      "outputs": [
        {
          "output_type": "stream",
          "name": "stdout",
          "text": [
            "+-------------------+------------+-------------+----------------+----------------+-----------------+--------------+--------------+------------+-------------+-------------+---------------+------------------+----------------+-----------------+-----------------+---------+--------------------+-----------------+------------------+-------------------+----------------+---------------+--------------+---------------+---------------+-----------------+--------------------+------------------+-------------------+-------------------+------------+------------+--------------+-----------------+-------------+---------------------------+----------------+---------------------+---------------------+---------------------+----------------+------------------+--------------------------------+---------------------+--------------------------+--------------------------+--------------------------+---------------------+---------------+-----------------------------+------------------+-----------------------+-----------------------+-----------------------+------------------+---------------------+-----------------------------------+------------------------+-----------------------------+-----------------------------+-----------------------------+------------------------+----------------+-----------+---------------+--------------------+-----------------+--------------+-------------------------+-----------------------------+----------------------------------+----------------------+\n",
            "|COMMUNITY AREA NAME|CENSUS BLOCK|BUILDING TYPE|BUILDING_SUBTYPE|KWH JANUARY 2010|KWH FEBRUARY 2010|KWH MARCH 2010|KWH APRIL 2010|KWH MAY 2010|KWH JUNE 2010|KWH JULY 2010|KWH AUGUST 2010|KWH SEPTEMBER 2010|KWH OCTOBER 2010|KWH NOVEMBER 2010|KWH DECEMBER 2010|TOTAL KWH|ELECTRICITY ACCOUNTS|ZERO KWH ACCOUNTS|THERM JANUARY 2010|THERM FEBRUARY 2010|THERM MARCH 2010|TERM APRIL 2010|THERM MAY 2010|THERM JUNE 2010|THERM JULY 2010|THERM AUGUST 2010|THERM SEPTEMBER 2010|THERM OCTOBER 2010|THERM NOVEMBER 2010|THERM DECEMBER 2010|TOTAL THERMS|GAS ACCOUNTS|KWH TOTAL SQFT|THERMS TOTAL SQFT|KWH MEAN 2010|KWH STANDARD DEVIATION 2010|KWH MINIMUM 2010|KWH 1ST QUARTILE 2010|KWH 2ND QUARTILE 2010|KWH 3RD QUARTILE 2010|KWH MAXIMUM 2010|KWH SQFT MEAN 2010|KWH SQFT STANDARD DEVIATION 2010|KWH SQFT MINIMUM 2010|KWH SQFT 1ST QUARTILE 2010|KWH SQFT 2ND QUARTILE 2010|KWH SQFT 3RD QUARTILE 2010|KWH SQFT MAXIMUM 2010|THERM MEAN 2010|THERM STANDARD DEVIATION 2010|THERM MINIMUM 2010|THERM 1ST QUARTILE 2010|THERM 2ND QUARTILE 2010|THERM 3RD QUARTILE 2010|THERM MAXIMUM 2010|THERMS SQFT MEAN 2010|THERMS SQFT STANDARD DEVIATION 2010|THERMS SQFT MINIMUM 2010|THERMS SQFT 1ST QUARTILE 2010|THERMS SQFT 2ND QUARTILE 2010|THERMS SQFT 3RD QUARTILE 2010|THERMS SQFT MAXIMUM 2010|TOTAL POPULATION|TOTAL UNITS|AVERAGE STORIES|AVERAGE BUILDING AGE|AVERAGE HOUSESIZE|OCCUPIED UNITS|OCCUPIED UNITS PERCENTAGE|RENTER-OCCUPIED HOUSING UNITS|RENTER-OCCUPIED HOUSING PERCENTAGE|OCCUPIED HOUSING UNITS|\n",
            "+-------------------+------------+-------------+----------------+----------------+-----------------+--------------+--------------+------------+-------------+-------------+---------------+------------------+----------------+-----------------+-----------------+---------+--------------------+-----------------+------------------+-------------------+----------------+---------------+--------------+---------------+---------------+-----------------+--------------------+------------------+-------------------+-------------------+------------+------------+--------------+-----------------+-------------+---------------------------+----------------+---------------------+---------------------+---------------------+----------------+------------------+--------------------------------+---------------------+--------------------------+--------------------------+--------------------------+---------------------+---------------+-----------------------------+------------------+-----------------------+-----------------------+-----------------------+------------------+---------------------+-----------------------------------+------------------------+-----------------------------+-----------------------------+-----------------------------+------------------------+----------------+-----------+---------------+--------------------+-----------------+--------------+-------------------------+-----------------------------+----------------------------------+----------------------+\n",
            "|    Near North Side|        null|         null|            null|        27406980|         26268680|      23232831|      22007261|    25755723|     29267150|     31307909|       30795059|          26535887|        23786022|         28091097|         33744291|328198890|                7305|             2463|           1945695|            1661273|         1269263|         746972|        547394|         399757|         336847|           334979|              346300|            561689|            1042453|            1885549|    11078171|         309|      31715999|         30795451|    1155630.0|                 3031810.74|             145|              30665.0|             120188.5|             869575.5|        30713971|          124866.1|                       296764.66|                  500|                    4915.0|                   18286.5|                  115236.0|              2071586|       44490.65|                     93034.03|                38|                 2694.0|                 7693.0|                34383.0|            716213|             130489.2|                          309834.57|                     500|                       4874.0|                      16193.5|                     106300.0|                 2071586|           67388|      51372|           7.54|                36.4|           408.76|         43222|                   0.8414|                        28335|                            0.6556|                 43222|\n",
            "|           Lakeview|        null|         null|            null|         5353409|          4931519|       4760201|       4754874|     6117506|      7227951|      7788242|        6771529|           5278168|         5033755|          6085598|          6974936| 71077688|                4295|             1682|           1071828|             876313|          675689|         354402|        214594|         120221|         109663|           106299|              122970|            227536|             503663|            1025415|     5408593|         415|      11452956|         11967541|     179037.0|                 1110955.12|             131|               8833.0|              18129.0|              50136.0|        19840845|          33005.64|                       200903.54|                  400|                    2059.0|                    3057.0|                    9490.0|              2774361|       15954.55|                     60840.77|                34|                 1342.0|                 2058.0|                 6994.0|            691826|             37398.57|                           214911.2|                     400|                       1979.0|                       2997.0|                       7800.0|                 2774361|           59202|      40179|           2.67|               65.02|            832.0|         36470|                   0.9077|                        25512|                            0.6995|                 36470|\n",
            "|       Lincoln Park|        null|         null|            null|         3888718|          3739979|       3477020|       3363408|     4380843|      5555584|      5536628|        5430680|           4163591|         3707084|          4082974|          5087618| 52414127|                3233|             1133|            798886|             665461|          478687|         250805|        179377|         108019|         101737|           101368|              112542|            185493|             404007|             820375|     4206757|         397|       7953558|          6332601|     146818.3|                  518920.36|             131|               9328.0|              18711.0|              52773.0|         4078762|          24854.87|                       128076.07|                  468|                    2075.0|                    3200.0|                    7794.0|              1457362|       12709.24|                     34921.32|                63|                 1487.0|                 2367.0|                 6431.0|            316318|              20296.8|                          106341.59|                     468|                       2107.0|                       3325.0|                       8610.5|                 1457362|           48156|      29033|           2.52|                63.0|           795.31|         26631|                   0.9173|                        17013|                            0.6388|                 26631|\n",
            "|        South Shore|        null|         null|            null|         3275820|          3078804|       2699302|       2640377|     2757412|      3264734|      3245013|        2878052|           2598618|         2899303|          3474765|          4231398| 37043598|                1908|             1035|            784302|             642973|          536504|         310733|        182659|         103283|          81391|            78456|               84574|            167607|             369734|             642771|     3984987|         410|       6205497|          6228066|     94019.28|                  519338.76|             131|               4276.0|              11656.0|              37040.0|         9371305|          20082.51|                        90306.56|                  600|                    1700.0|                    2905.0|                    9937.0|               976279|       12610.72|                     32869.24|                32|                 1268.0|                 2302.5|                 6599.5|            296470|             22163.94|                           94880.32|                     600|                       1647.0|                       2992.0|                       9548.0|                  976279|           47285|      28271|           2.25|               65.77|          1007.99|         23173|                   0.8197|                        18415|                            0.7947|                 23173|\n",
            "|             Uptown|        null|         null|            null|         4529292|          4146613|       3579986|       3498339|     4314653|      5047177|      5040275|        4569352|           3589651|         3701922|          5339617|          6136746| 53493623|                2650|             1092|            819797|             698841|          561497|         337535|        242756|         223718|         223796|           217929|              139072|            267311|             426041|             729948|     4888241|         175|       6656288|          7730900|     318414.4|                 1140797.07|             308|              11756.0|              36194.5|             175720.0|        12097266|          44673.07|                       141509.11|                  700|                    3015.0|                    6697.0|                   21358.0|              1442428|       32159.48|                     84479.62|                32|                 2208.0|                 6980.5|                24201.5|            832239|             52951.37|                          150088.91|                     700|                       2880.0|                       7709.0|                      27476.0|                 1442428|           41707|      24004|           3.58|               62.53|           321.89|         21764|                   0.9067|                        15732|                            0.7228|                 21764|\n",
            "|        Rogers Park|        null|         null|            null|         2136214|          2161857|       2008756|       2057464|     2446836|      2824275|      2781596|        2484761|           2108710|         2293646|          2611706|          2752623| 28668444|                1918|             1476|           2084011|            1792211|         1481742|         876463|        564061|         297238|         249736|           251629|              293750|            546707|            1230830|            1872493|    11540871|         269|       3251901|          3687333|     91886.04|                  265476.09|             394|              10754.5|              19589.0|              66116.5|         3570259|          14200.44|                        21401.21|                  700|                    2610.0|                    6880.0|                   19917.0|               234208|        48902.0|                    526041.64|                38|                 1948.5|                 5426.0|                18232.0|           8087200|              17813.2|                           48555.33|                     700|                       2496.0|                       5555.0|                      18300.0|                  513907|           48386|      23495|           2.33|               56.61|           764.72|         21087|                   0.8975|                        15684|                            0.7437|                 21087|\n",
            "|          Edgewater|        null|         null|            null|         5791710|          4436045|       3300147|       3314944|     3606998|      4537193|      4025829|        3798947|           3092907|         3821281|          6921551|          6641729| 53289281|                2930|             1015|            619343|             510906|          378394|         194658|        135070|          66514|          55724|            56247|               71350|            147575|             294651|             601840|     3132272|         226|       8671406|          4477430|     240041.8|                 1007332.35|             303|               7308.0|              18323.5|              78184.0|        11859460|          44697.97|                       229242.24|                  600|                    2288.0|                    3854.0|                   14300.0|              2752368|        15059.0|                     38748.97|                87|                 1315.5|                 2717.0|                13051.5|            412077|             23199.12|                           99963.09|                     825|                       2130.0|                       3357.0|                      11900.0|                 1245247|           40043|      22893|           3.05|               58.34|           495.13|         20530|                   0.8968|                        13273|                            0.6465|                 20530|\n",
            "|             Austin|        null|         null|            null|         4914217|          4602145|       4276679|       3741778|     4655376|      5035923|      5490870|        5368086|           4598089|         4103613|          4760380|          5642098| 57189254|                1249|              709|            824780|             738069|          523439|         261901|        152696|          97750|          87539|            81756|               94876|            144435|             349969|             697764|     4054974|         663|       5074297|          4245945|     89920.21|                  322986.11|             106|               4711.0|              11347.0|              26936.0|         3352817|            8763.9|                        24079.71|                  122|                    1500.0|                    2520.0|                    5965.0|               367300|        6803.65|                     20420.88|                25|                 1237.0|                 1926.5|                 3988.0|            300371|              7595.61|                           17434.64|                     672|                       1440.0|                       2400.0|                       5727.0|                  195448|           48897|      19985|           1.58|                59.6|          2061.92|         16903|                   0.8458|                        11419|                            0.6756|                 16903|\n",
            "|         West Ridge|        null|         null|            null|         2127696|          2134499|       1966631|       2171863|     2850467|      3205792|      3029485|        2706874|           2198842|         2327668|          2806096|          2643053| 30168966|                2074|              505|            645922|             525241|          414830|         222604|        258380|         158575|         164646|           164109|              141971|            165811|             310841|             610089|     3783019|         376|       4488213|          4374003|     73225.65|                  241950.67|             164|               7213.5|              13608.5|              28875.0|         2915123|          13641.98|                        60295.19|                  500|                    1564.0|                    2874.0|                    8300.0|               834018|       10902.07|                     35027.37|                60|                 1266.0|                 2056.0|                 6938.0|            430126|             13711.61|                           61704.12|                     500|                       1520.0|                       2591.0|                       6680.0|                  834018|           44944|      17764|           1.78|               50.96|          1208.23|         15759|                    0.887|                         9516|                            0.6038|                 15759|\n",
            "|          West Town|        null|         null|            null|         4841291|          6601122|       6448430|       6421480|     7285673|      8388976|      8805374|        8823177|           7254141|         6447652|          6990660|          7878841| 86186817|                1117|              519|            806693|             650920|          513984|         245069|        171218|         119144|          97150|           101365|              118595|            170560|             308484|             686487|     3989669|         600|       6039841|          5553312|     172719.1|                 1088069.96|             189|               7493.0|              16316.0|              48950.0|        21990295|          12609.27|                        69468.04|                  500|                    1638.0|                    2880.0|                    6100.0|              1396390|        8192.34|                     51595.74|                30|                 1124.0|                 1880.0|                 3929.0|           1108726|             11866.05|                           68861.59|                     580|                       1600.0|                       2806.0|                       5893.0|                 1396390|           32645|      17057|           1.63|               59.28|          1144.36|         15408|                   0.9033|                         9982|                            0.6478|                 15408|\n",
            "+-------------------+------------+-------------+----------------+----------------+-----------------+--------------+--------------+------------+-------------+-------------+---------------+------------------+----------------+-----------------+-----------------+---------+--------------------+-----------------+------------------+-------------------+----------------+---------------+--------------+---------------+---------------+-----------------+--------------------+------------------+-------------------+-------------------+------------+------------+--------------+-----------------+-------------+---------------------------+----------------+---------------------+---------------------+---------------------+----------------+------------------+--------------------------------+---------------------+--------------------------+--------------------------+--------------------------+---------------------+---------------+-----------------------------+------------------+-----------------------+-----------------------+-----------------------+------------------+---------------------+-----------------------------------+------------------------+-----------------------------+-----------------------------+-----------------------------+------------------------+----------------+-----------+---------------+--------------------+-----------------+--------------+-------------------------+-----------------------------+----------------------------------+----------------------+\n",
            "only showing top 10 rows\n",
            "\n"
          ]
        }
      ]
    },
    {
      "cell_type": "code",
      "metadata": {
        "id": "Q3cHeKSX-pd5",
        "colab": {
          "base_uri": "https://localhost:8080/"
        },
        "outputId": "f932d544-a159-4fae-edf6-a13104ac2dbc"
      },
      "source": [
        "train.select('CENSUS BLOCK').rdd.map(lambda x:(x,1)).take(5)"
      ],
      "execution_count": 53,
      "outputs": [
        {
          "output_type": "execute_result",
          "data": {
            "text/plain": [
              "[(Row(CENSUS BLOCK=170315704001006), 1),\n",
              " (Row(CENSUS BLOCK=170317005014004), 1),\n",
              " (Row(CENSUS BLOCK=170317105001006), 1),\n",
              " (Row(CENSUS BLOCK=170312503003003), 1),\n",
              " (Row(CENSUS BLOCK=170312504002008), 1)]"
            ]
          },
          "metadata": {},
          "execution_count": 53
        }
      ]
    }
  ]
}