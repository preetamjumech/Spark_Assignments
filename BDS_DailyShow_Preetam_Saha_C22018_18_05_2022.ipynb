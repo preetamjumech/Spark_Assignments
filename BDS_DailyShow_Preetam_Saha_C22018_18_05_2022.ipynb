{
  "nbformat": 4,
  "nbformat_minor": 0,
  "metadata": {
    "colab": {
      "name": "BDS-DailyShow_Preetam Saha_C22018_18.05.2022",
      "provenance": [],
      "collapsed_sections": [],
      "include_colab_link": true
    },
    "kernelspec": {
      "name": "python3",
      "display_name": "Python 3"
    }
  },
  "cells": [
    {
      "cell_type": "markdown",
      "metadata": {
        "id": "view-in-github",
        "colab_type": "text"
      },
      "source": [
        "<a href=\"https://colab.research.google.com/github/preetamjumech/Spark_Assignments/blob/main/BDS_DailyShow_Preetam_Saha_C22018_18_05_2022.ipynb\" target=\"_parent\"><img src=\"https://colab.research.google.com/assets/colab-badge.svg\" alt=\"Open In Colab\"/></a>"
      ]
    },
    {
      "cell_type": "markdown",
      "metadata": {
        "id": "8Oq35CX7KTRf"
      },
      "source": [
        "Apache Spark: An Introduction\n",
        "https://www.dataquest.io/blog/apache-spark/"
      ]
    },
    {
      "cell_type": "code",
      "metadata": {
        "id": "FBpu9hgTqJMk",
        "colab": {
          "base_uri": "https://localhost:8080/"
        },
        "outputId": "ff378cfd-9065-4637-ad58-7f2ae9f37554"
      },
      "source": [
        "#import urllib.request\n",
        "#urllib.request.urlretrieve('https://raw.githubusercontent.com/fivethirtyeight/data/master/daily-show-guests/daily_show_guests.csv','dsg.csv')\n",
        "#!wget 'https://raw.githubusercontent.com/fivethirtyeight/data/master/daily-show-guests/daily_show_guests.csv'\n",
        "!gdown https://drive.google.com/uc?id=1UQWzVXAg2ytuAmtizEsWx6E1D38XUBX4"
      ],
      "execution_count": 1,
      "outputs": [
        {
          "output_type": "stream",
          "name": "stdout",
          "text": [
            "Downloading...\n",
            "From: https://drive.google.com/uc?id=1UQWzVXAg2ytuAmtizEsWx6E1D38XUBX4\n",
            "To: /content/daily_show_guests.csv\n",
            "\r  0% 0.00/127k [00:00<?, ?B/s]\r100% 127k/127k [00:00<00:00, 69.2MB/s]\n"
          ]
        }
      ]
    },
    {
      "cell_type": "markdown",
      "metadata": {
        "id": "tlUPgXwhNAi6"
      },
      "source": [
        "# Setup"
      ]
    },
    {
      "cell_type": "markdown",
      "source": [
        "## This approach is not required anymore -- deprecated"
      ],
      "metadata": {
        "id": "7Mq-fy7Q9tpa"
      }
    },
    {
      "cell_type": "code",
      "metadata": {
        "id": "ISo88MdIjSE3",
        "colab": {
          "base_uri": "https://localhost:8080/"
        },
        "outputId": "e3b2073b-5752-4f80-b763-54a4a6eda676"
      },
      "source": [
        "!apt-get update > /dev/null\n",
        "!apt-get install openjdk-8-jdk-headless -qq > /dev/null\n",
        "#!wget -q http://apache.osuosl.org/spark/spark-2.2.2/spark-2.2.2-bin-hadoop2.7.tgz\n",
        "#!wget -q http://apache.osuosl.org/spark/spark-2.4.0/spark-2.4.0-bin-hadoop2.7.tgz\n",
        "#!wget -q http://apache.osuosl.org/spark/spark-2.4.3/spark-2.4.3-bin-hadoop2.7.tgz\n",
        "#!wget -q http://apache.osuosl.org/spark/spark-2.4.4/spark-2.4.4-bin-hadoop2.7.tgz\n",
        "#!wget -q http://apache.osuosl.org/spark/spark-2.4.5/spark-2.4.5-bin-hadoop2.7.tgz\n",
        "#!wget -q http://apache.osuosl.org/spark/spark-3.0.1/spark-3.0.1-bin-hadoop3.2.tgz\n",
        "!wget -q http://apache.osuosl.org/spark/spark-3.1.2/spark-3.1.2-bin-hadoop3.2.tgz\n",
        "#\n",
        "# if the current version of Spark is not used, there may be errors\n",
        "# check here for current versions http://apache.osuosl.org/spark\n",
        "#\n",
        "#!tar xf spark-2.4.0-bin-hadoop2.7.tgz\n",
        "#!tar xf spark-2.4.3-bin-hadoop2.7.tgz\n",
        "#!tar xf spark-2.4.4-bin-hadoop2.7.tgz\n",
        "#!tar xf spark-2.4.5-bin-hadoop2.7.tgz\n",
        "#!tar xf spark-3.0.1-bin-hadoop3.2.tgz\n",
        "!tar xf spark-3.1.2-bin-hadoop3.2.tgz\n",
        "#!pip install -q findspark\n",
        "!pip install -q pyspark"
      ],
      "execution_count": 2,
      "outputs": [
        {
          "output_type": "stream",
          "name": "stdout",
          "text": [
            "\u001b[K     |████████████████████████████████| 281.4 MB 35 kB/s \n",
            "\u001b[K     |████████████████████████████████| 198 kB 44.5 MB/s \n",
            "\u001b[?25h  Building wheel for pyspark (setup.py) ... \u001b[?25l\u001b[?25hdone\n"
          ]
        }
      ]
    },
    {
      "cell_type": "code",
      "metadata": {
        "id": "YDRK6_rijFl3"
      },
      "source": [
        "import os\n",
        "os.environ[\"JAVA_HOME\"] = \"/usr/lib/jvm/java-8-openjdk-amd64\"\n",
        "#os.environ[\"SPARK_HOME\"] = \"/content/spark-2.4.0-bin-hadoop2.7\"\n",
        "#os.environ[\"SPARK_HOME\"] = \"/content/spark-2.4.3-bin-hadoop2.7\"\n",
        "#os.environ[\"SPARK_HOME\"] = \"/content/spark-2.4.4-bin-hadoop2.7\"\n",
        "#os.environ[\"SPARK_HOME\"] = \"/content/spark-2.4.5-bin-hadoop2.7\"\n",
        "#os.environ[\"SPARK_HOME\"] = \"/content/spark-3.0.1-bin-hadoop3.2\"\n",
        "os.environ[\"SPARK_HOME\"] = \"/content/spark-3.1.2-bin-hadoop3.2\""
      ],
      "execution_count": 3,
      "outputs": []
    },
    {
      "cell_type": "markdown",
      "source": [
        "## 2022 Approach "
      ],
      "metadata": {
        "id": "wXT3w_Sx90-c"
      }
    },
    {
      "cell_type": "code",
      "source": [
        "!pip3 -q install pyspark"
      ],
      "metadata": {
        "id": "CK-kbkHu9-Kn"
      },
      "execution_count": 4,
      "outputs": []
    },
    {
      "cell_type": "code",
      "metadata": {
        "id": "gQPAU53MLruJ"
      },
      "source": [
        "#import findspark\n",
        "#findspark.init()\n",
        "from pyspark.sql import SparkSession\n",
        "spark = SparkSession.builder.master(\"local[*]\").getOrCreate()\n",
        "#from pyspark.sql import SparkSession\n",
        "#spark = SparkSession.builder.master(\"local[*]\").getOrCreate()\n",
        "# note UI port switched from default 4040 to 4050 to avoid clash with ngrok\n",
        "#spark = SparkSession.builder.master(\"local[*]\").config('spark.ui.port', '4050').getOrCreate()"
      ],
      "execution_count": 6,
      "outputs": []
    },
    {
      "cell_type": "code",
      "metadata": {
        "id": "7VOhVTZeLyx7"
      },
      "source": [
        "sc = spark.sparkContext"
      ],
      "execution_count": 7,
      "outputs": []
    },
    {
      "cell_type": "code",
      "metadata": {
        "id": "KpVbDj2TL9YJ",
        "colab": {
          "base_uri": "https://localhost:8080/",
          "height": 196
        },
        "outputId": "3632fb42-9ea8-4cf3-85a0-f336458ae667"
      },
      "source": [
        "sc"
      ],
      "execution_count": 8,
      "outputs": [
        {
          "output_type": "execute_result",
          "data": {
            "text/plain": [
              "<SparkContext master=local[*] appName=pyspark-shell>"
            ],
            "text/html": [
              "\n",
              "        <div>\n",
              "            <p><b>SparkContext</b></p>\n",
              "\n",
              "            <p><a href=\"http://d0f68b3bd60b:4040\">Spark UI</a></p>\n",
              "\n",
              "            <dl>\n",
              "              <dt>Version</dt>\n",
              "                <dd><code>v3.1.2</code></dd>\n",
              "              <dt>Master</dt>\n",
              "                <dd><code>local[*]</code></dd>\n",
              "              <dt>AppName</dt>\n",
              "                <dd><code>pyspark-shell</code></dd>\n",
              "            </dl>\n",
              "        </div>\n",
              "        "
            ]
          },
          "metadata": {},
          "execution_count": 8
        }
      ]
    },
    {
      "cell_type": "code",
      "metadata": {
        "id": "jJTLrfSML1lh",
        "colab": {
          "base_uri": "https://localhost:8080/"
        },
        "outputId": "2086df7e-414a-403c-e230-a5471977b807"
      },
      "source": [
        "raw_data = sc.textFile(\"daily_show_guests.csv\")\n",
        "raw_data.take(5)"
      ],
      "execution_count": 9,
      "outputs": [
        {
          "output_type": "execute_result",
          "data": {
            "text/plain": [
              "['YEAR,GoogleKnowlege_Occupation,Show,Group,Raw_Guest_List',\n",
              " '1999,actor,1/11/99,Acting,Michael J. Fox',\n",
              " '1999,Comedian,1/12/99,Comedy,Sandra Bernhard',\n",
              " '1999,television actress,1/13/99,Acting,Tracey Ullman',\n",
              " '1999,film actress,1/14/99,Acting,Gillian Anderson']"
            ]
          },
          "metadata": {},
          "execution_count": 9
        }
      ]
    },
    {
      "cell_type": "markdown",
      "metadata": {
        "id": "1NAKnX_9NJnC"
      },
      "source": [
        "# Daily Show"
      ]
    },
    {
      "cell_type": "code",
      "metadata": {
        "id": "OI8xnT_XUCuV"
      },
      "source": [
        "import csv\n",
        "\n",
        "f = open('daily_show_guests.csv')\n",
        "tally_D = dict()\n",
        "for line in f:\n",
        "    data_line = line.split(',')\n",
        "    year = data_line[0]\n",
        "    if year in tally_D.keys():\n",
        "       tally_D[year] = tally_D[year] + 1\n",
        "    else:\n",
        "       tally_D[year] = 1"
      ],
      "execution_count": 10,
      "outputs": []
    },
    {
      "cell_type": "code",
      "metadata": {
        "id": "nl4-zeOwTFtA",
        "colab": {
          "base_uri": "https://localhost:8080/"
        },
        "outputId": "4a4f395d-aa72-4f7f-c660-1f783e6916a9"
      },
      "source": [
        "print(tally_D)"
      ],
      "execution_count": 11,
      "outputs": [
        {
          "output_type": "stream",
          "name": "stdout",
          "text": [
            "{'YEAR': 1, '1999': 166, '2000': 169, '2001': 157, '2002': 159, '2003': 166, '2004': 164, '2005': 162, '2006': 161, '2007': 141, '2008': 164, '2009': 163, '2010': 165, '2011': 163, '2012': 164, '2013': 166, '2014': 163, '2015': 100}\n"
          ]
        }
      ]
    },
    {
      "cell_type": "code",
      "metadata": {
        "id": "GZuICvffNVDq",
        "colab": {
          "base_uri": "https://localhost:8080/"
        },
        "outputId": "1bef8137-5c04-4ce3-a275-84a057ec208f"
      },
      "source": [
        "daily_show = raw_data.map(lambda line: line.split(','))\n",
        "daily_show.take(5)"
      ],
      "execution_count": 12,
      "outputs": [
        {
          "output_type": "execute_result",
          "data": {
            "text/plain": [
              "[['YEAR', 'GoogleKnowlege_Occupation', 'Show', 'Group', 'Raw_Guest_List'],\n",
              " ['1999', 'actor', '1/11/99', 'Acting', 'Michael J. Fox'],\n",
              " ['1999', 'Comedian', '1/12/99', 'Comedy', 'Sandra Bernhard'],\n",
              " ['1999', 'television actress', '1/13/99', 'Acting', 'Tracey Ullman'],\n",
              " ['1999', 'film actress', '1/14/99', 'Acting', 'Gillian Anderson']]"
            ]
          },
          "metadata": {},
          "execution_count": 12
        }
      ]
    },
    {
      "cell_type": "code",
      "metadata": {
        "id": "8ViRYoAyMiMx",
        "colab": {
          "base_uri": "https://localhost:8080/"
        },
        "outputId": "81d81413-ce16-4354-be4e-2842cb544c42"
      },
      "source": [
        "tallyMap = daily_show.map(lambda x: (x[0], 1))\n",
        "tallyMap.take(5)\n"
      ],
      "execution_count": 13,
      "outputs": [
        {
          "output_type": "execute_result",
          "data": {
            "text/plain": [
              "[('YEAR', 1), ('1999', 1), ('1999', 1), ('1999', 1), ('1999', 1)]"
            ]
          },
          "metadata": {},
          "execution_count": 13
        }
      ]
    },
    {
      "cell_type": "code",
      "metadata": {
        "id": "K4kpBE3VNbT6",
        "colab": {
          "base_uri": "https://localhost:8080/"
        },
        "outputId": "7a0b7519-b442-4ac8-d354-4a1574a5bf30"
      },
      "source": [
        "tallyRed = tallyMap.reduceByKey(lambda x,y: x+y)\n",
        "tallyRed.take(5)"
      ],
      "execution_count": 14,
      "outputs": [
        {
          "output_type": "execute_result",
          "data": {
            "text/plain": [
              "[('YEAR', 1), ('2002', 159), ('2003', 166), ('2004', 164), ('2007', 141)]"
            ]
          },
          "metadata": {},
          "execution_count": 14
        }
      ]
    },
    {
      "cell_type": "code",
      "metadata": {
        "id": "WRgW0JoSOISo",
        "colab": {
          "base_uri": "https://localhost:8080/"
        },
        "outputId": "4b77561e-3327-4b94-c599-2bcdcf21f893"
      },
      "source": [
        "tally = daily_show.map(lambda x: (x[0], 1)).reduceByKey(lambda x,y: x+y)\n",
        "print(tally)"
      ],
      "execution_count": 15,
      "outputs": [
        {
          "output_type": "stream",
          "name": "stdout",
          "text": [
            "PythonRDD[14] at RDD at PythonRDD.scala:53\n"
          ]
        }
      ]
    },
    {
      "cell_type": "code",
      "metadata": {
        "colab": {
          "base_uri": "https://localhost:8080/"
        },
        "id": "2YTnfPs4duuS",
        "outputId": "b2f3287c-42e6-4c26-e938-7d89e5b31e0b"
      },
      "source": [
        "tally.count()"
      ],
      "execution_count": 16,
      "outputs": [
        {
          "output_type": "execute_result",
          "data": {
            "text/plain": [
              "18"
            ]
          },
          "metadata": {},
          "execution_count": 16
        }
      ]
    },
    {
      "cell_type": "code",
      "metadata": {
        "id": "N8teWmXNOS4M",
        "colab": {
          "base_uri": "https://localhost:8080/"
        },
        "outputId": "10fb67d2-0973-4587-a449-3a788f92ee13"
      },
      "source": [
        "tally.take(tally.count())"
      ],
      "execution_count": 17,
      "outputs": [
        {
          "output_type": "execute_result",
          "data": {
            "text/plain": [
              "[('YEAR', 1),\n",
              " ('2002', 159),\n",
              " ('2003', 166),\n",
              " ('2004', 164),\n",
              " ('2007', 141),\n",
              " ('2010', 165),\n",
              " ('2011', 163),\n",
              " ('2012', 164),\n",
              " ('2013', 166),\n",
              " ('2014', 163),\n",
              " ('2015', 100),\n",
              " ('1999', 166),\n",
              " ('2000', 169),\n",
              " ('2001', 157),\n",
              " ('2005', 162),\n",
              " ('2006', 161),\n",
              " ('2008', 164),\n",
              " ('2009', 163)]"
            ]
          },
          "metadata": {},
          "execution_count": 17
        }
      ]
    },
    {
      "cell_type": "code",
      "metadata": {
        "id": "wGiSNZfqPrgt"
      },
      "source": [
        "def filter_year(line):\n",
        "    if line[0] == 'YEAR':\n",
        "        return False\n",
        "    else:\n",
        "        return True\n",
        "filtered_daily_show = daily_show.filter(lambda line: filter_year(line))"
      ],
      "execution_count": 21,
      "outputs": []
    },
    {
      "cell_type": "code",
      "metadata": {
        "id": "T8pkylxVP7DN",
        "colab": {
          "base_uri": "https://localhost:8080/"
        },
        "outputId": "e0eb5002-ffd2-46a2-da22-cc9b105cbd27"
      },
      "source": [
        "tally2 = filtered_daily_show.map(lambda x: (x[0], 1)).reduceByKey(lambda x,y: x+y)\n",
        "print(tally2)"
      ],
      "execution_count": 22,
      "outputs": [
        {
          "output_type": "stream",
          "name": "stdout",
          "text": [
            "PythonRDD[31] at RDD at PythonRDD.scala:53\n"
          ]
        }
      ]
    },
    {
      "cell_type": "code",
      "metadata": {
        "id": "gnq4co6iQFFH",
        "colab": {
          "base_uri": "https://localhost:8080/"
        },
        "outputId": "a0cffcf4-f8b1-473c-8953-9979c3d35e8c"
      },
      "source": [
        "tally2.take(tally2.count())"
      ],
      "execution_count": 23,
      "outputs": [
        {
          "output_type": "execute_result",
          "data": {
            "text/plain": [
              "[('2002', 159),\n",
              " ('2003', 166),\n",
              " ('2004', 164),\n",
              " ('2007', 141),\n",
              " ('2010', 165),\n",
              " ('2011', 163),\n",
              " ('2012', 164),\n",
              " ('2013', 166),\n",
              " ('2014', 163),\n",
              " ('2015', 100),\n",
              " ('1999', 166),\n",
              " ('2000', 169),\n",
              " ('2001', 157),\n",
              " ('2005', 162),\n",
              " ('2006', 161),\n",
              " ('2008', 164),\n",
              " ('2009', 163)]"
            ]
          },
          "metadata": {},
          "execution_count": 23
        }
      ]
    },
    {
      "cell_type": "code",
      "metadata": {
        "id": "rAepMpRvQVtd",
        "colab": {
          "base_uri": "https://localhost:8080/"
        },
        "outputId": "ca86447a-0fe5-40e4-c10f-58ba42e105fe"
      },
      "source": [
        "filtered_daily_show.filter(lambda line: line[1] != '') \\\n",
        "                   .map(lambda line: (line[1].lower(), 1)) \\\n",
        "                   .reduceByKey(lambda x,y: x+y) \\\n",
        "                   .take(20)"
      ],
      "execution_count": 24,
      "outputs": [
        {
          "output_type": "execute_result",
          "data": {
            "text/plain": [
              "[('actor', 596),\n",
              " ('film actress', 21),\n",
              " ('model', 9),\n",
              " ('stand-up comedian', 44),\n",
              " ('actress', 271),\n",
              " ('television personality', 13),\n",
              " ('comic', 2),\n",
              " ('musician', 19),\n",
              " ('film actor', 19),\n",
              " ('journalist', 253),\n",
              " ('us senator', 50),\n",
              " ('vocalist', 2),\n",
              " ('film director', 24),\n",
              " ('singer', 23),\n",
              " ('muppet', 2),\n",
              " ('american television personality', 3),\n",
              " ('rapper', 10),\n",
              " ('football player', 1),\n",
              " ('former mayor of cincinatti', 2),\n",
              " ('businesswoman', 2)]"
            ]
          },
          "metadata": {},
          "execution_count": 24
        }
      ]
    },
    {
      "cell_type": "markdown",
      "metadata": {
        "id": "5v9s3gDsVX0q"
      },
      "source": [
        "## Extra Sorting"
      ]
    },
    {
      "cell_type": "code",
      "metadata": {
        "id": "--xXTk9vhnei",
        "colab": {
          "base_uri": "https://localhost:8080/"
        },
        "outputId": "72fbca30-61bf-4011-8871-22c9a7339a16"
      },
      "source": [
        "filtered_daily_show.filter(lambda line: line[1] != '') \\\n",
        "                   .map(lambda line: (line[1].lower(), 1)) \\\n",
        "                   .reduceByKey(lambda x,y: x+y) \\\n",
        "                   .take(20)"
      ],
      "execution_count": 25,
      "outputs": [
        {
          "output_type": "execute_result",
          "data": {
            "text/plain": [
              "[('actor', 596),\n",
              " ('film actress', 21),\n",
              " ('model', 9),\n",
              " ('stand-up comedian', 44),\n",
              " ('actress', 271),\n",
              " ('television personality', 13),\n",
              " ('comic', 2),\n",
              " ('musician', 19),\n",
              " ('film actor', 19),\n",
              " ('journalist', 253),\n",
              " ('us senator', 50),\n",
              " ('vocalist', 2),\n",
              " ('film director', 24),\n",
              " ('singer', 23),\n",
              " ('muppet', 2),\n",
              " ('american television personality', 3),\n",
              " ('rapper', 10),\n",
              " ('football player', 1),\n",
              " ('former mayor of cincinatti', 2),\n",
              " ('businesswoman', 2)]"
            ]
          },
          "metadata": {},
          "execution_count": 25
        }
      ]
    },
    {
      "cell_type": "code",
      "metadata": {
        "id": "NMDJhWpfh6wy",
        "colab": {
          "base_uri": "https://localhost:8080/"
        },
        "outputId": "3044bd5e-33c9-434c-8690-4f51207e5963"
      },
      "source": [
        "#sorted by profession \n",
        "#not sorted by number of appearances\n",
        "# in sortbykey, 1st parameter determines direction of sort, second parameter is optional)\n",
        "# in sortbykey, 2nd parameter determines number of partition in output RDD\n",
        "# see next two cells\n",
        "filtered_daily_show.filter(lambda line: line[1] != '') \\\n",
        "                   .map(lambda line: (line[1].lower(), 1)) \\\n",
        "                   .reduceByKey(lambda x,y: x+y) \\\n",
        "                   .sortByKey(0, 1) \\\n",
        "                   .take(20)"
      ],
      "execution_count": 26,
      "outputs": [
        {
          "output_type": "execute_result",
          "data": {
            "text/plain": [
              "[('writer', 52),\n",
              " ('white house sommunications director', 5),\n",
              " ('white house official', 1),\n",
              " ('vocalist', 2),\n",
              " ('vice president', 2),\n",
              " ('us senator', 50),\n",
              " ('us secretary of energy', 1),\n",
              " ('us secretary of defense', 1),\n",
              " ('us secetary of education', 1),\n",
              " ('us representative', 9),\n",
              " ('us president', 10),\n",
              " ('us permanent representative to nato', 1),\n",
              " ('us official', 1),\n",
              " ('us assistant attorney', 1),\n",
              " ('university professor', 2),\n",
              " ('united states senator', 15),\n",
              " ('united states senate member', 4),\n",
              " ('united states secretary of the navy', 1),\n",
              " ('united states secretary of housing and urban development', 1),\n",
              " ('united states secretary of defense', 1)]"
            ]
          },
          "metadata": {},
          "execution_count": 26
        }
      ]
    },
    {
      "cell_type": "code",
      "metadata": {
        "colab": {
          "base_uri": "https://localhost:8080/"
        },
        "id": "xjKV1b5ejaCZ",
        "outputId": "86b06114-29b4-4649-bbc7-efcfdd8377da"
      },
      "source": [
        "#sorted by profession \n",
        "#not sorted by number of appearances\n",
        "# in sortbykey, 1st parameter determines direction of sort, second parameter is optional)\n",
        "# in sortbykey, 2nd parameter determines number of partition in output RDD\n",
        "# see next two cells\n",
        "filtered_daily_show.filter(lambda line: line[1] != '') \\\n",
        "                   .map(lambda line: (line[1].lower(), 1)) \\\n",
        "                   .reduceByKey(lambda x,y: x+y) \\\n",
        "                   .sortByKey(1, 1) \\\n",
        "                   .take(20)"
      ],
      "execution_count": 29,
      "outputs": [
        {
          "output_type": "execute_result",
          "data": {
            "text/plain": [
              "[('-', 1),\n",
              " ('0', 4),\n",
              " ('academic', 6),\n",
              " ('accountant', 1),\n",
              " ('activist', 14),\n",
              " ('actor', 596),\n",
              " ('actress', 271),\n",
              " ('administrator', 1),\n",
              " ('admiral', 2),\n",
              " ('adviser', 4),\n",
              " ('advocate', 1),\n",
              " ('aei president', 1),\n",
              " ('afghan politician', 1),\n",
              " ('american football quarterback', 3),\n",
              " ('american football running back', 1),\n",
              " ('american football wide receiver', 2),\n",
              " ('american football wide reciever', 1),\n",
              " ('american political figure', 2),\n",
              " ('american politician', 8),\n",
              " ('american television personality', 3)]"
            ]
          },
          "metadata": {},
          "execution_count": 29
        }
      ]
    },
    {
      "cell_type": "code",
      "metadata": {
        "id": "aZl2duauLIV-",
        "colab": {
          "base_uri": "https://localhost:8080/"
        },
        "outputId": "52695916-f0ec-4a03-88e2-5b2869df5a69"
      },
      "source": [
        "!rm -r dumpDir\n",
        "filtered_daily_show.filter(lambda line: line[1] != '') \\\n",
        "                   .map(lambda line: (line[1].lower(), 1)) \\\n",
        "                   .reduceByKey(lambda x,y: x+y) \\\n",
        "                   .sortByKey(0,2)\\\n",
        "                   .saveAsTextFile(\"dumpDir\")"
      ],
      "execution_count": 30,
      "outputs": [
        {
          "output_type": "stream",
          "name": "stdout",
          "text": [
            "rm: cannot remove 'dumpDir': No such file or directory\n"
          ]
        }
      ]
    },
    {
      "cell_type": "code",
      "metadata": {
        "colab": {
          "base_uri": "https://localhost:8080/"
        },
        "id": "KkzLto2UlDk2",
        "outputId": "3e4d1dc9-032a-45dc-ea88-b6da9e33c429"
      },
      "source": [
        "filtered_daily_show.filter(lambda line: line[1] != '') \\\n",
        "                   .map(lambda line: (line[1].lower(), 1)) \\\n",
        "                   .reduceByKey(lambda x,y: x+y) \\\n",
        "                   .take(10)"
      ],
      "execution_count": 31,
      "outputs": [
        {
          "output_type": "execute_result",
          "data": {
            "text/plain": [
              "[('actor', 596),\n",
              " ('film actress', 21),\n",
              " ('model', 9),\n",
              " ('stand-up comedian', 44),\n",
              " ('actress', 271),\n",
              " ('television personality', 13),\n",
              " ('comic', 2),\n",
              " ('musician', 19),\n",
              " ('film actor', 19),\n",
              " ('journalist', 253)]"
            ]
          },
          "metadata": {},
          "execution_count": 31
        }
      ]
    },
    {
      "cell_type": "code",
      "metadata": {
        "id": "25HW89np4WeS",
        "colab": {
          "base_uri": "https://localhost:8080/"
        },
        "outputId": "e71c5e6b-87a1-4eb1-e9fb-93f140987b24"
      },
      "source": [
        "filtered_daily_show.filter(lambda line: line[1] != '') \\\n",
        "                   .map(lambda line: (line[1].lower(), 1)) \\\n",
        "                   .reduceByKey(lambda x,y: x+y) \\\n",
        "                   .map(lambda x: (x[1],x[0]))\\\n",
        "                   .take(10)"
      ],
      "execution_count": 32,
      "outputs": [
        {
          "output_type": "execute_result",
          "data": {
            "text/plain": [
              "[(596, 'actor'),\n",
              " (21, 'film actress'),\n",
              " (9, 'model'),\n",
              " (44, 'stand-up comedian'),\n",
              " (271, 'actress'),\n",
              " (13, 'television personality'),\n",
              " (2, 'comic'),\n",
              " (19, 'musician'),\n",
              " (19, 'film actor'),\n",
              " (253, 'journalist')]"
            ]
          },
          "metadata": {},
          "execution_count": 32
        }
      ]
    },
    {
      "cell_type": "code",
      "metadata": {
        "id": "4WQK_2IGLAHN",
        "colab": {
          "base_uri": "https://localhost:8080/"
        },
        "outputId": "ba08e0a9-0c47-4fc8-fd09-6de6299f9b58"
      },
      "source": [
        "#to sort by number of appearances, we first need to flip the key and value \n",
        "#\n",
        "\n",
        "# sort 1st arg configures ascending sort, 2nd configures 1 task\n",
        "# https://stackoverflow.com/questions/38569052/how-do-i-invert-key-and-value-in-rdd-in-python-3-pyspark\n",
        "\n",
        "filtered_daily_show.filter(lambda line: line[1] != '') \\\n",
        "                   .map(lambda line: (line[1].lower(), 1)) \\\n",
        "                   .reduceByKey(lambda x,y: x+y) \\\n",
        "                   .map(lambda x: (x[1],x[0]))\\\n",
        "                   .sortByKey(0, 1) \\\n",
        "                   .map(lambda x: (x[1],x[0])) \\\n",
        "                   .take(10)"
      ],
      "execution_count": 38,
      "outputs": [
        {
          "output_type": "execute_result",
          "data": {
            "text/plain": [
              "[('actor', 596),\n",
              " ('actress', 271),\n",
              " ('journalist', 253),\n",
              " ('author', 152),\n",
              " ('comedian', 103),\n",
              " ('writer', 52),\n",
              " ('us senator', 50),\n",
              " ('stand-up comedian', 44),\n",
              " ('television host', 39),\n",
              " ('professor', 37)]"
            ]
          },
          "metadata": {},
          "execution_count": 38
        }
      ]
    },
    {
      "cell_type": "code",
      "metadata": {
        "id": "ue6wvD6xX8LX",
        "colab": {
          "base_uri": "https://localhost:8080/"
        },
        "outputId": "ecf138fb-21a2-438d-b6b8-05a718dfcbc3"
      },
      "source": [
        "filtered_daily_show.filter(lambda line: line[1] != '') \\\n",
        "                   .map(lambda line: (line[1].lower(), 1)) \\\n",
        "                   .reduceByKey(lambda x,y: x+y) \\\n",
        "                   .sortBy(lambda x : -1*x[1])\\\n",
        "                   .take(10)"
      ],
      "execution_count": 39,
      "outputs": [
        {
          "output_type": "execute_result",
          "data": {
            "text/plain": [
              "[('actor', 596),\n",
              " ('actress', 271),\n",
              " ('journalist', 253),\n",
              " ('author', 152),\n",
              " ('comedian', 103),\n",
              " ('writer', 52),\n",
              " ('us senator', 50),\n",
              " ('stand-up comedian', 44),\n",
              " ('television host', 39),\n",
              " ('professor', 37)]"
            ]
          },
          "metadata": {},
          "execution_count": 39
        }
      ]
    },
    {
      "cell_type": "code",
      "metadata": {
        "id": "2PNZ2615Q3LD",
        "colab": {
          "base_uri": "https://localhost:8080/"
        },
        "outputId": "566e0b24-7d6b-4bb4-d704-66b7e1b853db"
      },
      "source": [
        "filtered_daily_show.filter(lambda line: line[1] != '') \\\n",
        "                   .map(lambda line: (line[1].lower(), 1)) \\\n",
        "                   .reduceByKey(lambda x,y: x+y) \\\n",
        "                   .takeOrdered(10, lambda aTuple:-1*aTuple[1])"
      ],
      "execution_count": 40,
      "outputs": [
        {
          "output_type": "execute_result",
          "data": {
            "text/plain": [
              "[('actor', 596),\n",
              " ('actress', 271),\n",
              " ('journalist', 253),\n",
              " ('author', 152),\n",
              " ('comedian', 103),\n",
              " ('writer', 52),\n",
              " ('us senator', 50),\n",
              " ('stand-up comedian', 44),\n",
              " ('television host', 39),\n",
              " ('professor', 37)]"
            ]
          },
          "metadata": {},
          "execution_count": 40
        }
      ]
    },
    {
      "cell_type": "code",
      "metadata": {
        "id": "sM4xcb4fXSdF"
      },
      "source": [
        ""
      ],
      "execution_count": null,
      "outputs": []
    }
  ]
}